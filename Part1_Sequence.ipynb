{
 "cells": [
  {
   "cell_type": "markdown",
   "metadata": {},
   "source": [
    "$$\n",
    "\\newcommand{\\mat}[1]{\\boldsymbol {#1}}\n",
    "\\newcommand{\\mattr}[1]{\\boldsymbol {#1}^\\top}\n",
    "\\newcommand{\\matinv}[1]{\\boldsymbol {#1}^{-1}}\n",
    "\\newcommand{\\vec}[1]{\\boldsymbol {#1}}\n",
    "\\newcommand{\\vectr}[1]{\\boldsymbol {#1}^\\top}\n",
    "\\newcommand{\\rvar}[1]{\\mathrm {#1}}\n",
    "\\newcommand{\\rvec}[1]{\\boldsymbol{\\mathrm{#1}}}\n",
    "\\newcommand{\\diag}{\\mathop{\\mathrm {diag}}}\n",
    "\\newcommand{\\set}[1]{\\mathbb {#1}}\n",
    "\\newcommand{\\norm}[1]{\\left\\lVert#1\\right\\rVert}\n",
    "\\newcommand{\\pderiv}[2]{\\frac{\\partial #1}{\\partial #2}}\n",
    "\\newcommand{\\bb}[1]{\\boldsymbol{#1}}\n",
    "$$\n",
    "# Part 1: Sequence Models\n",
    "<a id=part1></a>"
   ]
  },
  {
   "cell_type": "markdown",
   "metadata": {},
   "source": [
    "In this part we will learn about working with text sequences using recurrent neural networks.\n",
    "We'll go from a raw text file all the way to a fully trained GRU-RNN model and generate works of art!"
   ]
  },
  {
   "cell_type": "code",
   "execution_count": 43,
   "metadata": {
    "pycharm": {
     "is_executing": false
    }
   },
   "outputs": [
    {
     "name": "stdout",
     "output_type": "stream",
     "text": [
      "The autoreload extension is already loaded. To reload it, use:\n",
      "  %reload_ext autoreload\n"
     ]
    }
   ],
   "source": [
    "import unittest\n",
    "import os\n",
    "import sys\n",
    "import pathlib\n",
    "import urllib\n",
    "import shutil\n",
    "import re\n",
    "\n",
    "import numpy as np\n",
    "import torch\n",
    "import matplotlib.pyplot as plt\n",
    "\n",
    "%load_ext autoreload\n",
    "%autoreload 2"
   ]
  },
  {
   "cell_type": "code",
   "execution_count": 44,
   "metadata": {
    "pycharm": {
     "is_executing": false
    }
   },
   "outputs": [
    {
     "name": "stdout",
     "output_type": "stream",
     "text": [
      "Using device: cuda\n"
     ]
    }
   ],
   "source": [
    "test = unittest.TestCase()\n",
    "plt.rcParams.update({'font.size': 12})\n",
    "device = torch.device('cuda' if torch.cuda.is_available() else 'cpu')\n",
    "print('Using device:', device)"
   ]
  },
  {
   "cell_type": "markdown",
   "metadata": {},
   "source": [
    "## Text generation with a char-level RNN\n",
    "<a id=part1_1></a>"
   ]
  },
  {
   "cell_type": "markdown",
   "metadata": {},
   "source": [
    "### Obtaining the corpus\n",
    "<a id=part1_2></a>"
   ]
  },
  {
   "cell_type": "markdown",
   "metadata": {},
   "source": [
    "Let's begin by downloading a corpus containing all the works of William Shakespeare.\n",
    "Since he was very prolific, this corpus is fairly large and will provide us with enough data for\n",
    "obtaining impressive results."
   ]
  },
  {
   "cell_type": "code",
   "execution_count": 45,
   "metadata": {
    "pycharm": {
     "is_executing": false
    }
   },
   "outputs": [
    {
     "name": "stdout",
     "output_type": "stream",
     "text": [
      "Corpus file /home/nadavhalahmi/.pytorch-datasets/shakespeare.txt exists, skipping download.\n"
     ]
    }
   ],
   "source": [
    "CORPUS_URL = 'https://github.com/cedricdeboom/character-level-rnn-datasets/raw/master/datasets/shakespeare.txt'\n",
    "DATA_DIR = pathlib.Path.home().joinpath('.pytorch-datasets')\n",
    "\n",
    "def download_corpus(out_path=DATA_DIR, url=CORPUS_URL, force=False):\n",
    "    pathlib.Path(out_path).mkdir(exist_ok=True)\n",
    "    out_filename = os.path.join(out_path, os.path.basename(url))\n",
    "    \n",
    "    if os.path.isfile(out_filename) and not force:\n",
    "        print(f'Corpus file {out_filename} exists, skipping download.')\n",
    "    else:\n",
    "        print(f'Downloading {url}...')\n",
    "        with urllib.request.urlopen(url) as response, open(out_filename, 'wb') as out_file:\n",
    "            shutil.copyfileobj(response, out_file)\n",
    "        print(f'Saved to {out_filename}.')\n",
    "    return out_filename\n",
    "    \n",
    "corpus_path = download_corpus()"
   ]
  },
  {
   "cell_type": "markdown",
   "metadata": {},
   "source": [
    "Load the text into memory and print a snippet:"
   ]
  },
  {
   "cell_type": "code",
   "execution_count": 65,
   "metadata": {
    "pycharm": {
     "is_executing": false
    }
   },
   "outputs": [
    {
     "name": "stdout",
     "output_type": "stream",
     "text": [
      "Corpus length: 6347703 chars\n",
      "ALLS WELL THAT ENDS WELL\n",
      "\n",
      "by William Shakespeare\n",
      "\n",
      "Dramatis Personae\n",
      "\n",
      "  KING OF FRANCE\n",
      "  THE DUKE OF FLORENCE\n",
      "  BERTRAM, Count of Rousillon\n",
      "  LAFEU, an old lord\n",
      "  PAROLLES, a follower of Bertram\n",
      "  TWO FRENCH LORDS, serving with Bertram\n",
      "\n",
      "  STEWARD, Servant to the Countess of Rousillon\n",
      "  LAVACHE, a clown and Servant to the Countess of Rousillon\n",
      "  A PAGE, Servant to the Countess of Rousillon\n",
      "\n",
      "  COUNTESS OF ROUSILLON, mother to Bertram\n",
      "  HELENA, a gentlewoman protected by the Countess\n",
      "  A WIDOW OF FLORENCE.\n",
      "  DIANA, daughter to the Widow\n",
      "\n",
      "  VIOLENTA, neighbour and friend to the Widow\n",
      "  MARIANA, neighbour and friend to the Widow\n",
      "\n",
      "  Lords, Officers, Soldiers, etc., French and Florentine  \n",
      "\n",
      "SCENE:\n",
      "Rousillon; Paris; Florence; Marseilles\n",
      "\n",
      "ACT I. SCENE 1.\n",
      "Rousillon. The COUNT'S palace\n",
      "\n",
      "Enter BERTRAM, the COUNTESS OF ROUSILLON, HELENA, and LAFEU, all in black\n",
      "\n",
      "  COUNTESS. In delivering my son from me, I bury a second husband.\n",
      "  BERTRAM. And I in going, madam, weep o'er my father's death anew;\n",
      "    but I must attend his Majesty's command, to whom I am now in\n",
      "    ward, evermore in subjection.\n",
      "  LAFEU. You shall find of the King a husband, madam; you, sir, a\n",
      "    father. He that so generally is at all times good must of\n",
      "    necessity hold his virtue to you, whose worthiness would stir it\n",
      "    up where it wanted, rather than lack it where there is such\n",
      "    abundance.\n",
      "  COUNTESS. What hope is there of his Majesty's amendment?\n",
      "  LAFEU. He hath abandon'd his physicians, madam; under whose\n",
      "    practices he hath persecuted time with hope, and finds no other\n",
      "    advantage in the process but only the losing of hope by time.\n",
      "  COUNTESS. This young gentlewoman had a father- O, that 'had,' how\n",
      "    sad a passage 'tis!-whose skill was almost as great as his\n",
      "    honesty; had it stretch'd so far, would have made nature  \n",
      "    immortal, and death should have play for lack of work. Would, for\n",
      "    the King's sake, he were living! I think it would be the death of\n",
      "    the King's disease.\n",
      "  LAFEU. How call'd you the man you speak of, madam?\n",
      "  COUNTESS. He was famous, sir, in his profession, and it was his\n",
      "    great right to be so- Gerard de Narbon.\n",
      "  LAFEU. He was excellent indeed, madam; the King very lately spoke\n",
      "    of him admiringly and mourningly; he was skilful enough to have\n",
      "    liv'd still, if knowledge could be set up against mortality.\n",
      "  BERTRAM. What is it, my good lord, the King languishes of?\n",
      "  LAFEU. A fistula, my lord.\n",
      "  BERTRAM. I heard not of it before.\n",
      "  LAFEU. I would it were not notorious. Was this gentlewoman the\n",
      "    daughter of Gerard de Narbon?\n",
      "  COUNTESS. His sole child, my lord, and bequeathed to my\n",
      "    overlooking. I have those hopes of her good that her education\n",
      "    promises; her dispositions she inherits, which makes fair gifts\n",
      "    fairer; for where an unclean mind carries virtuous qualities,\n",
      "    there commendations go with pity-they are virtues and traitors\n",
      "    too. In her they are the better for their simpleness; she derives  \n",
      "    her honesty, and achieves her goodness.\n",
      "  LAFEU. Your commendations, madam, get from her tears.\n",
      "  COUNTESS. 'Tis the best brine a maiden can season her praise in.\n",
      "    The remembrance of her father never approaches her heart but the\n",
      "    tyranny of her sorrows takes all livelihood from her cheek. No\n",
      "    more of this, Helena; go to, no more, lest it be rather thought\n",
      "    you affect a sorrow than to have-\n",
      "  HELENA. I do affect a sorrow indeed, but I have it too.\n",
      "  LAFEU. Moderate lamentation is the right of the dead: excessive\n",
      "    grief the enemy to the living.\n",
      "  COUNTESS. If the living be enemy to the grief, the excess makes it\n",
      "    soon mortal.\n",
      "  BERTRAM. Madam, I desire your holy wishes.\n",
      "  LAFEU. How understand we that?\n",
      "  COUNTESS. Be thou blest, Bertram, and succeed thy father\n",
      "    In manners, as in shape! Thy blood and virtue\n",
      "    Contend for empire in thee, and thy goodness\n",
      "    Share with thy birthright! Love all, trust a few,\n",
      "    Do wrong to none; be able for thine enemy\n",
      "    Rather in power than use, and keep thy friend  \n",
      "    Under thy own life's key; be check'd for silence,\n",
      "    But never tax'd for speech. What heaven more will,\n",
      "    That thee may furnish, and my prayers pluck down,\n",
      "    Fall on thy head! Farewell. My lord,\n",
      "    'Tis an unseason'd courtier; good my lord,\n",
      "    Advise him.\n",
      "  LAFEU. He cannot want the best\n",
      "    That shall attend his love.\n",
      "  COUNTESS. Heaven bless him! Farewell, Bertram.            Exit\n",
      "  BERTRAM. The best wishes that can be forg'd in your thoughts be\n",
      "    servants to you!  [To HELENA]  Be comfortable to my mother, your\n",
      "    mistress, and make much of her.\n",
      "  LAFEU. Farewell, pretty lady; you must hold the credit of your\n",
      "    father.                             Exeunt BERTRAM and LAFEU\n",
      "  HELENA. O, were that all! I think not on my father;\n",
      "    And these great tears grace his remembrance more\n",
      "    Than those I shed for him. What was he like?\n",
      "    I have forgot him; my imagination\n",
      "    Carries no favour in't but Bertram's.\n",
      "    I am undone; there is no living, none,  \n",
      "    If Bertram be away. 'Twere all one\n",
      "    That I should love a bright particular star\n",
      "    And think to wed it, he is so above me.\n",
      "    In his bright radiance and collateral light\n",
      "    Must I be comforted, not in his sphere.\n",
      "    Th' ambition in my love thus plagues itself:\n",
      "    The hind that would be mated by the lion\n",
      "    Must die for love. 'Twas pretty, though a plague,\n",
      "    To see him every hour; to sit and draw\n",
      "    His arched brows, his hawking eye, his curls,\n",
      "    In our heart's table-heart too capable\n",
      "    Of every line and trick of his sweet favour.\n",
      "    But now he's gone, and my idolatrous fancy\n",
      "    Must sanctify his relics. Who comes here?\n",
      "\n",
      "                       Enter PAROLLES\n",
      "\n",
      "    [Aside]  One that goes with him. I love him for his sake;\n",
      "    And yet I know him a notorious liar,\n",
      "    Think him a great way fool, solely a coward;  \n",
      "    Yet these fix'd evils sit so fit in him\n",
      "    That they take place when virtue's steely bones\n",
      "    Looks bleak i' th' cold wind; withal, full oft we see\n",
      "    Cold wisdom waiting on superfluous folly.\n",
      "  PAROLLES. Save you, fair queen!\n",
      "  HELENA. And you, monarch!\n",
      "  PAROLLES. No.\n",
      "  HELENA. And no.\n",
      "  PAROLLES. Are you meditating on virginity?\n",
      "  HELENA. Ay. You have some stain of soldier in you; let me ask you a\n",
      "    question. Man is enemy to virginity; how may we barricado it\n",
      "    against him?\n",
      "  PAROLLES. Keep him out.\n",
      "  HELENA. But he assails; and our virginity, though valiant in the\n",
      "    defence, yet is weak. Unfold to us some warlike resistance.\n",
      "  PAROLLES. There is none. Man, setting down before you, will\n",
      "    undermine you and blow you up.\n",
      "  HELENA. Bless our poor virginity from underminers and blowers-up!\n",
      "    Is there no military policy how virgins might blow up men?\n",
      "  PAROLLES. Virginity being blown down, man will quicklier be blown  \n",
      "    up; marry, in blowing him down again, with the breach yourselves\n",
      "     made, you lose your city. It is not politic in the commonwealth\n",
      "    of nature to preserve virginity. Loss of virginity is rational\n",
      "    increase; and there was never virgin got till virginity was first\n",
      "    lost. That you were made of is metal to make virgins. Virginity\n",
      "    by being once lost may be ten times found; by being ever kept, it\n",
      "    is ever lost. 'Tis too cold a companion; away with't.\n",
      "  HELENA. I will stand for 't a little, though therefore I die a\n",
      "    virgin.\n",
      "  PAROLLES. There's little can be said in 't; 'tis against the rule\n",
      "    of nature. To speak on the part of virginity is to accuse your\n",
      "    mothers; which is most infallible disobedience. He that hangs\n",
      "    himself is a virgin; virginity murders itself, and should be\n",
      "    buried in highways, out of all sanctified limit, as a desperate\n",
      "    offendress against nature. Virginity breeds mites, much like a\n",
      "    cheese; consumes itself to the very paring, and so dies with\n",
      "    feeding his own stomach. Besides, virginity is peevish, proud,\n",
      "    idle, made of self-love, which is the most inhibited sin in the\n",
      "    canon. Keep it not; you cannot choose but lose by't. Out with't.\n",
      "    Within ten year it will make itself ten, which is a goodly  \n",
      "    increase; and the principal itself not much the worse. Away\n",
      "    with't.\n",
      "  HELENA. How might one do, sir, to lose it to her own liking?\n",
      "  PAROLLES. Let me see. Marry, ill to like him that ne'er it likes.\n",
      "    'Tis a commodity will lose the gloss with lying; the longer kept,\n",
      "    the less worth. Off with't while 'tis vendible; answer the time\n",
      "    of request. Virginity, like an old courtier, wears her cap out of\n",
      "    fashion, richly suited but unsuitable; just like the brooch and\n",
      "    the toothpick, which wear not now. Your date is better in your\n",
      "    pie and your porridge than in your cheek. And your virginity,\n",
      "    your old virginity, is like one of our French wither'd pears: it\n",
      "    looks ill, it eats drily; marry, 'tis a wither'd pear; it was\n",
      "    formerly better; marry, yet 'tis a wither'd pear. Will you\n",
      "    anything with it?\n",
      "  HELENA. Not my virginity yet.\n",
      "    There shall your master have a thousand loves,\n",
      "    A mother, and a mistress, and a friend,\n",
      "    A phoenix, captain, and an enemy,\n",
      "    A guide, a goddess, and a sovereign,\n",
      "    A counsellor, a traitress, and a dear;  \n",
      "    His humble ambition, proud humility,\n",
      "    His jarring concord, and his discord dulcet,\n",
      "    His faith, his sweet disaster; with a world\n",
      "    Of pretty, fond, adoptious christendoms\n",
      "    That blinking Cupid gossips. Now shall he-\n",
      "    I know not what he shall. God send him well!\n",
      "    The court's a learning-place, and he is one-\n",
      "  PAROLLES. What one, i' faith?\n",
      "  HELENA. That I wish well. 'Tis pity-\n",
      "  PAROLLES. What's pity?\n",
      "  HELENA. That wishing well had not a body in't\n",
      "    Which might be felt; that we, the poorer born,\n",
      "    Whose baser stars do shut us up in wishes,\n",
      "    Might with effects of them follow our friends\n",
      "    And show what we alone must think, which never\n",
      "    Returns us thanks.\n",
      "\n",
      "                      Enter PAGE\n",
      "\n",
      "  PAGE. Monsieur Parolles, my lord calls for you.      Exit PAGE  \n",
      "  PAROLLES. Little Helen, farewell; if I can remember thee, I will\n",
      "    think of thee at court.\n",
      "  HELENA. Monsieur Parolles, you were born under a charitable star.\n",
      "  PAROLLES. Under Mars, I.\n",
      "  HELENA. I especially think, under Mars.\n",
      "  PAROLLES. Why under Man?\n",
      "  HELENA. The wars hath so kept you under that you must needs be born\n",
      "    under Mars.\n",
      "  PAROLLES. When he was predominant.\n",
      "  HELENA. When he was retrograde, I think, rather.\n",
      "  PAROLLES. Why think you so?\n",
      "  HELENA. You go so much backward when you fight.\n",
      "  PAROLLES. That's for advantage.\n",
      "  HELENA. So is running away, when fear proposes the safety: but the\n",
      "    composition that your valour and fear makes in you is a virtue of\n",
      "    a good wing, and I like the wear well.\n",
      "  PAROLLES. I am so full of business I cannot answer thee acutely. I\n",
      "    will return perfect courtier; in the which my instruction shall\n",
      "    serve to naturalize thee, so thou wilt be capable of a courtier's\n",
      "    counsel, and understand what advice shall thrust upon thee; else  \n",
      "    thou diest in thine unthankfulness, and thine ignorance makes\n",
      "    thee away. Farewell. When thou hast leisure, say thy prayers;\n",
      "    when thou hast none, remember thy friends. Get thee a good\n",
      "    husband and use him as he uses thee. So, farewell.\n",
      " Exit\n",
      "  HELENA. Our remedies oft in ourselves do lie,\n",
      "    Which we ascribe to heaven. The fated sky\n",
      "    Gives us free scope; only doth backward pull\n",
      "    Our slow designs when we ourselves are dull.\n",
      "    What power is it which mounts my love so high,\n",
      "    That makes me see, and cannot feed mine eye?\n",
      "    The mightiest space in fortune nature brings\n",
      "    To join like likes, and kiss like native things.\n",
      "    Impossible be strange attempts to those\n",
      "    That weigh their pains in sense, and do suppose\n",
      "    What hath been cannot be. Who ever strove\n",
      "    To show her merit that did miss her love?\n",
      "    The King's disease-my project may deceive me,\n",
      "    But my intents are fix'd, and will not leave me.        Exit\n",
      "\n",
      "ACT I. SCENE 2.\n",
      "Paris. The KING'S palace\n",
      "\n",
      "Flourish of cornets. Enter the KING OF FRANCE, with letters,\n",
      "and divers ATTENDANTS\n",
      "\n",
      "  KING. The Florentines and Senoys are by th' ears;\n",
      "    Have fought with equal fortune, and continue\n",
      "    A braving war.\n",
      "  FIRST LORD. So 'tis reported, sir.\n",
      "  KING. Nay, 'tis most credible. We here receive it,\n",
      "    A certainty, vouch'd from our cousin Austria,\n",
      "    With caution, that the Florentine\n"
     ]
    }
   ],
   "source": [
    "with open(corpus_path, 'r', encoding='utf-8') as f:\n",
    "    corpus = f.read()\n",
    "\n",
    "print(f'Corpus length: {len(corpus)} chars')\n",
    "print(corpus[7:12340])"
   ]
  },
  {
   "cell_type": "markdown",
   "metadata": {},
   "source": [
    "### Data Preprocessing\n",
    "<a id=part1_3></a>"
   ]
  },
  {
   "cell_type": "markdown",
   "metadata": {},
   "source": [
    "The first thing we'll need is to map from each unique character in the corpus to an index that will represent it in our learning process.\n",
    "\n",
    "**TODO**: Implement the `char_maps()` function in the `hw3/charnn.py` module."
   ]
  },
  {
   "cell_type": "code",
   "execution_count": 47,
   "metadata": {
    "pycharm": {
     "is_executing": false
    }
   },
   "outputs": [
    {
     "name": "stdout",
     "output_type": "stream",
     "text": [
      "{'\\n': 0, ' ': 1, '!': 2, '\"': 3, '$': 4, '&': 5, \"'\": 6, '(': 7, ')': 8, ',': 9, '-': 10, '.': 11, '0': 12, '1': 13, '2': 14, '3': 15, '4': 16, '5': 17, '6': 18, '7': 19, '8': 20, '9': 21, ':': 22, ';': 23, '<': 24, '?': 25, 'A': 26, 'B': 27, 'C': 28, 'D': 29, 'E': 30, 'F': 31, 'G': 32, 'H': 33, 'I': 34, 'J': 35, 'K': 36, 'L': 37, 'M': 38, 'N': 39, 'O': 40, 'P': 41, 'Q': 42, 'R': 43, 'S': 44, 'T': 45, 'U': 46, 'V': 47, 'W': 48, 'X': 49, 'Y': 50, 'Z': 51, '[': 52, ']': 53, '_': 54, 'a': 55, 'b': 56, 'c': 57, 'd': 58, 'e': 59, 'f': 60, 'g': 61, 'h': 62, 'i': 63, 'j': 64, 'k': 65, 'l': 66, 'm': 67, 'n': 68, 'o': 69, 'p': 70, 'q': 71, 'r': 72, 's': 73, 't': 74, 'u': 75, 'v': 76, 'w': 77, 'x': 78, 'y': 79, 'z': 80, '}': 81, '\\ufeff': 82}\n"
     ]
    }
   ],
   "source": [
    "import hw3.charnn as charnn\n",
    "\n",
    "char_to_idx, idx_to_char = charnn.char_maps(corpus)\n",
    "print(char_to_idx)\n",
    "\n",
    "test.assertEqual(len(char_to_idx), len(idx_to_char))\n",
    "test.assertSequenceEqual(list(char_to_idx.keys()), list(idx_to_char.values()))\n",
    "test.assertSequenceEqual(list(char_to_idx.values()), list(idx_to_char.keys()))"
   ]
  },
  {
   "cell_type": "markdown",
   "metadata": {},
   "source": [
    "Seems we have some strange characters in the corpus that are very rare and are probably due to mistakes.\n",
    "To reduce the length of each tensor we'll need to later represent our chars, it's best to remove them.\n",
    "\n",
    "**TODO**: Implement the `remove_chars()` function in the `hw3/charnn.py` module."
   ]
  },
  {
   "cell_type": "code",
   "execution_count": 48,
   "metadata": {
    "pycharm": {
     "is_executing": false
    }
   },
   "outputs": [
    {
     "name": "stdout",
     "output_type": "stream",
     "text": [
      "Removed 34 chars\n"
     ]
    }
   ],
   "source": [
    "corpus, n_removed = charnn.remove_chars(corpus, ['}','$','_','<','\\ufeff'])\n",
    "print(f'Removed {n_removed} chars')\n",
    "\n",
    "# After removing the chars, re-create the mappings\n",
    "char_to_idx, idx_to_char = charnn.char_maps(corpus)"
   ]
  },
  {
   "cell_type": "markdown",
   "metadata": {},
   "source": [
    "The next thing we need is an **embedding** of the chracters.\n",
    "An embedding is a representation of each token from the sequence as a tensor.\n",
    "For a char-level RNN, our tokens will be chars and we can thus use the simplest possible embedding: encode each char as a **one-hot** tensor. In other words, each char will be represented\n",
    "as a tensor whos length is the total number of unique chars (`V`) which contains all zeros except at the index\n",
    "corresponding to that specific char.\n",
    "\n",
    "**TODO**: Implement the functions `chars_to_onehot()` and `onehot_to_chars()` in the `hw3/charnn.py` module."
   ]
  },
  {
   "cell_type": "code",
   "execution_count": 49,
   "metadata": {
    "pycharm": {
     "is_executing": false
    }
   },
   "outputs": [
    {
     "name": "stdout",
     "output_type": "stream",
     "text": [
      "brine a maiden can season her praise in.\n",
      "   \n",
      "tensor([[0, 0, 0, 0, 0, 0, 0, 0, 0, 0, 0, 0, 0, 0, 0, 0, 0, 0, 0, 0, 0, 0, 0, 0,\n",
      "         0, 0, 0, 0, 0, 0, 0, 0, 0, 0, 0, 0, 0, 0, 0, 0, 0, 0, 0, 0, 0, 0, 0, 0,\n",
      "         0, 0, 0, 0, 0, 1, 0, 0, 0, 0, 0, 0, 0, 0, 0, 0, 0, 0, 0, 0, 0, 0, 0, 0,\n",
      "         0, 0, 0, 0, 0, 0],\n",
      "        [0, 0, 0, 0, 0, 0, 0, 0, 0, 0, 0, 0, 0, 0, 0, 0, 0, 0, 0, 0, 0, 0, 0, 0,\n",
      "         0, 0, 0, 0, 0, 0, 0, 0, 0, 0, 0, 0, 0, 0, 0, 0, 0, 0, 0, 0, 0, 0, 0, 0,\n",
      "         0, 0, 0, 0, 0, 0, 0, 0, 0, 0, 0, 0, 0, 0, 0, 0, 0, 0, 0, 0, 0, 1, 0, 0,\n",
      "         0, 0, 0, 0, 0, 0],\n",
      "        [0, 0, 0, 0, 0, 0, 0, 0, 0, 0, 0, 0, 0, 0, 0, 0, 0, 0, 0, 0, 0, 0, 0, 0,\n",
      "         0, 0, 0, 0, 0, 0, 0, 0, 0, 0, 0, 0, 0, 0, 0, 0, 0, 0, 0, 0, 0, 0, 0, 0,\n",
      "         0, 0, 0, 0, 0, 0, 0, 0, 0, 0, 0, 0, 1, 0, 0, 0, 0, 0, 0, 0, 0, 0, 0, 0,\n",
      "         0, 0, 0, 0, 0, 0]], dtype=torch.int8)\n"
     ]
    }
   ],
   "source": [
    "# Wrap the actual embedding functions for calling convenience\n",
    "def embed(text):\n",
    "    return charnn.chars_to_onehot(text, char_to_idx)\n",
    "\n",
    "def unembed(embedding):\n",
    "    return charnn.onehot_to_chars(embedding, idx_to_char)\n",
    "\n",
    "text_snippet = corpus[3104:3148]\n",
    "print(text_snippet)\n",
    "print(embed(text_snippet[0:3]))\n",
    "\n",
    "test.assertEqual(text_snippet, unembed(embed(text_snippet)))\n",
    "test.assertEqual(embed(text_snippet).dtype, torch.int8)"
   ]
  },
  {
   "cell_type": "markdown",
   "metadata": {},
   "source": [
    "### Dataset Creation\n",
    "<a id=part1_4></a>"
   ]
  },
  {
   "cell_type": "markdown",
   "metadata": {},
   "source": [
    "We wish to train our model to generate text by constantly predicting what the next char should be based on the past.\n",
    "To that end we'll need to train our recurrent network in a way similar to a classification task. At each timestep, we input a char and set the expected output (label) to be the next char in the original sequence.\n",
    "\n",
    "We will split our corpus into shorter sequences of length `S` chars (try to think why; see question below).\n",
    "Each **sample** we provide our model with will therefore be a tensor of shape `(S,V)` where `V` is the embedding dimension. Our model will operate sequentially on each char in the sequence.\n",
    "For each sample, we'll also need a **label**. This is simple another sequence, shifted by one char so that the label of each char is the next char in the corpus."
   ]
  },
  {
   "cell_type": "markdown",
   "metadata": {},
   "source": [
    "**TODO**: Implement the `chars_to_labelled_samples()` function in the `hw3/charnn.py` module."
   ]
  },
  {
   "cell_type": "code",
   "execution_count": 50,
   "metadata": {
    "pycharm": {
     "is_executing": false
    }
   },
   "outputs": [
    {
     "name": "stdout",
     "output_type": "stream",
     "text": [
      "samples shape: torch.Size([99182, 64, 78])\n",
      "labels shape: torch.Size([99182, 64])\n"
     ]
    }
   ],
   "source": [
    "# Create dataset of sequences\n",
    "seq_len = 64\n",
    "vocab_len = len(char_to_idx)\n",
    "\n",
    "# Create labelled samples\n",
    "samples, labels = charnn.chars_to_labelled_samples(corpus, char_to_idx, seq_len, device)\n",
    "print(f'samples shape: {samples.shape}')\n",
    "print(f'labels shape: {labels.shape}')\n",
    "\n",
    "# Test shapes\n",
    "num_samples = (len(corpus) - 1) // seq_len\n",
    "test.assertEqual(samples.shape, (num_samples, seq_len, vocab_len))\n",
    "test.assertEqual(labels.shape, (num_samples, seq_len))\n",
    "\n",
    "# Test content\n",
    "for _ in range(1000):\n",
    "    # random sample\n",
    "    i = np.random.randint(num_samples, size=(1,))[0]\n",
    "    # Compare to corpus\n",
    "    test.assertEqual(unembed(samples[i]), corpus[i*seq_len:(i+1)*seq_len], msg=f\"content mismatch in sample {i}\")\n",
    "    # Compare to labels\n",
    "    sample_text = unembed(samples[i])\n",
    "    label_text = str.join('', [idx_to_char[j.item()] for j in labels[i]])\n",
    "    test.assertEqual(sample_text[1:], label_text[0:-1], msg=f\"label mismatch in sample {i}\")"
   ]
  },
  {
   "cell_type": "markdown",
   "metadata": {},
   "source": [
    "Let's print a few consecutive samples. You should see that the text continues between them."
   ]
  },
  {
   "cell_type": "code",
   "execution_count": 51,
   "metadata": {
    "pycharm": {
     "is_executing": false
    }
   },
   "outputs": [
    {
     "name": "stdout",
     "output_type": "stream",
     "text": [
      "sample [26126]:\n",
      "\tm'd thy father's heart with proud desire Of bold-fac'd victo\n",
      "sample [26127]:\n",
      "\try. Then leaden age, Quicken'd with youthful spleen and warl\n",
      "sample [26128]:\n",
      "\tike rage, Beat down Alencon, Orleans, Burgundy, And fr\n",
      "sample [26129]:\n",
      "\tom the pride of Gallia rescued thee. The ireful bastard Orle\n",
      "sample [26130]:\n",
      "\tans, that drew blood From thee, my boy, and had the maidenho\n"
     ]
    }
   ],
   "source": [
    "import re\n",
    "import random\n",
    "\n",
    "i = random.randrange(num_samples-5)\n",
    "for i in range(i, i+5):\n",
    "    s = re.sub(r'\\s+', ' ', unembed(samples[i])).strip()\n",
    "    print(f'sample [{i}]:\\n\\t{s}')"
   ]
  },
  {
   "cell_type": "markdown",
   "metadata": {},
   "source": [
    "As usual, instead of feeding one sample at a time into our model's forward we'll work with **batches** of samples. This means that at every timestep, our model will operate on a batch of chars that are from **different sequences**.\n",
    "Effectively this will allow us to parallelize training our model by dong matrix-matrix multiplications\n",
    "instead of matrix-vector during the forward pass."
   ]
  },
  {
   "cell_type": "markdown",
   "metadata": {},
   "source": [
    "An important nuance is that we need the batches to be **contiguous**, i.e. sample $k$ in batch $j$ should continue sample $k$ from batch $j-1$.\n",
    "The following figure illustrates this:\n",
    "\n",
    "<img src=\"imgs/rnn-batching.png\"/>\n",
    "\n",
    "If we naïvely take consecutive samples into batches, e.g. `[0,1,...,B-1]`, `[B,B+1,...,2B-1]` and so on, we won't have contiguous\n",
    "sequences at the same index between adjacent batches.\n",
    "\n",
    "To accomplish this we need to tell our `DataLoader` which samples to combine together into one batch.\n",
    "We do this by implementing a custom PyTorch `Sampler`, and providing it to our `DataLoader`."
   ]
  },
  {
   "cell_type": "markdown",
   "metadata": {},
   "source": [
    "**TODO**: Implement the `SequenceBatchSampler` class in the `hw3/charnn.py` module."
   ]
  },
  {
   "cell_type": "code",
   "execution_count": 52,
   "metadata": {
    "pycharm": {
     "is_executing": false
    }
   },
   "outputs": [
    {
     "name": "stdout",
     "output_type": "stream",
     "text": [
      "sampler_idx =\n",
      " [0, 3, 6, 9, 12, 15, 18, 21, 24, 27, 1, 4, 7, 10, 13, 16, 19, 22, 25, 28, 2, 5, 8, 11, 14, 17, 20, 23, 26, 29]\n"
     ]
    }
   ],
   "source": [
    "from hw3.charnn import SequenceBatchSampler\n",
    "\n",
    "sampler = SequenceBatchSampler(dataset=range(32), batch_size=10)\n",
    "sampler_idx = list(sampler)\n",
    "print('sampler_idx =\\n', sampler_idx)\n",
    "\n",
    "# Test the Sampler\n",
    "test.assertEqual(len(sampler_idx), 30)\n",
    "batch_idx = np.array(sampler_idx).reshape(-1, 10)\n",
    "for k in range(10):\n",
    "    test.assertEqual(np.diff(batch_idx[:, k], n=2).item(), 0)"
   ]
  },
  {
   "cell_type": "markdown",
   "metadata": {},
   "source": [
    "Even though we're working with sequences, we can still use the standard PyTorch `Dataset`/`DataLoader` combo.\n",
    "For the dataset we can use a built-in class, `TensorDataset` to return tuples of `(sample, label)`\n",
    "from the `samples` and `labels` tensors we created above.\n",
    "The `DataLoader` will be provided with our custom `Sampler` so that it generates appropriate batches."
   ]
  },
  {
   "cell_type": "code",
   "execution_count": 53,
   "metadata": {
    "pycharm": {
     "is_executing": false
    }
   },
   "outputs": [],
   "source": [
    "import torch.utils.data\n",
    "\n",
    "# Create DataLoader returning batches of samples.\n",
    "batch_size = 32\n",
    "\n",
    "ds_corpus = torch.utils.data.TensorDataset(samples, labels)\n",
    "sampler_corpus = SequenceBatchSampler(ds_corpus, batch_size)\n",
    "dl_corpus = torch.utils.data.DataLoader(ds_corpus, batch_size=batch_size, sampler=sampler_corpus, shuffle=False)"
   ]
  },
  {
   "cell_type": "markdown",
   "metadata": {},
   "source": [
    "Let's see what that gives us:"
   ]
  },
  {
   "cell_type": "code",
   "execution_count": 54,
   "metadata": {
    "pycharm": {
     "is_executing": false
    }
   },
   "outputs": [
    {
     "name": "stdout",
     "output_type": "stream",
     "text": [
      "num batches: 3100\n",
      "shape of a batch of samples: torch.Size([32, 64, 78])\n",
      "shape of a batch of labels: torch.Size([32, 64])\n"
     ]
    }
   ],
   "source": [
    "print(f'num batches: {len(dl_corpus)}')\n",
    "\n",
    "x0, y0 = next(iter(dl_corpus))\n",
    "print(f'shape of a batch of samples: {x0.shape}')\n",
    "print(f'shape of a batch of labels: {y0.shape}')"
   ]
  },
  {
   "cell_type": "markdown",
   "metadata": {},
   "source": [
    "Now lets look at the same sample index from multiple batches taken from our corpus."
   ]
  },
  {
   "cell_type": "code",
   "execution_count": 55,
   "metadata": {
    "pycharm": {
     "is_executing": false
    }
   },
   "outputs": [
    {
     "name": "stdout",
     "output_type": "stream",
     "text": [
      "=== batch 0, sample 24 (torch.Size([64, 78])): ===\n",
      "\tmind were clear again, that I might water an ass at it. I ha\n",
      "=== batch 1, sample 24 (torch.Size([64, 78])): ===\n",
      "\td rather be a tick in a sheep than such a valiant ignorance.\n",
      "=== batch 2, sample 24 (torch.Size([64, 78])): ===\n",
      "\tExit ACT IV. SCENE 1. Troy.\n",
      "=== batch 3, sample 24 (torch.Size([64, 78])): ===\n",
      "\tA street Enter, at one side, AENEAS, and servant with a torch;\n",
      "=== batch 4, sample 24 (torch.Size([64, 78])): ===\n",
      "\tat another, PARIS, DEIPHOBUS, ANTENOR, DIOMEDES the Grecian, an\n"
     ]
    }
   ],
   "source": [
    "# Check that sentences in in same index of different batches complete each other.\n",
    "k = random.randrange(batch_size)\n",
    "for j, (X, y) in enumerate(dl_corpus,):\n",
    "    print(f'=== batch {j}, sample {k} ({X[k].shape}): ===')\n",
    "    s = re.sub(r'\\s+', ' ', unembed(X[k])).strip()\n",
    "    print(f'\\t{s}')\n",
    "    if j==4: break"
   ]
  },
  {
   "cell_type": "markdown",
   "metadata": {},
   "source": [
    "### Model Implementation\n",
    "<a id=part1_5></a>"
   ]
  },
  {
   "cell_type": "markdown",
   "metadata": {},
   "source": [
    "Finally, our data set is ready so we can focus on our model.\n",
    "\n",
    "We'll implement here is a multilayer gated recurrent unit (GRU) model, with dropout.\n",
    "This model is a type of RNN which performs similar to the well-known LSTM model,\n",
    "but it's somewhat easier to train because it has less parameters.\n",
    "We'll modify the regular GRU slightly by applying dropout to\n",
    "the hidden states passed between layers of the model.\n",
    "\n",
    "The model accepts an input $\\mat{X}\\in\\set{R}^{S\\times V}$ containing a sequence of embedded chars.\n",
    "It returns an output $\\mat{Y}\\in\\set{R}^{S\\times V}$ of predictions for the next char and the final hidden state\n",
    "$\\mat{H}\\in\\set{R}^{L\\times H}$. Here $S$ is the sequence length, $V$ is the vocabulary size (number of unique chars), $L$ is the number of layers in the model and $H$ is the hidden dimension."
   ]
  },
  {
   "cell_type": "markdown",
   "metadata": {},
   "source": [
    "Mathematically, the model's forward function at layer $k\\in[1,L]$ and timestep $t\\in[1,S]$ can be described as\n",
    "\n",
    "$$\n",
    "\\begin{align}\n",
    "\\vec{z_t}^{[k]} &= \\sigma\\left(\\vec{x}^{[k]}_t {\\mattr{W}_{\\mathrm{xz}}}^{[k]} +\n",
    "    \\vec{h}_{t-1}^{[k]} {\\mattr{W}_{\\mathrm{hz}}}^{[k]} + \\vec{b}_{\\mathrm{z}}^{[k]}\\right) \\\\\n",
    "\\vec{r_t}^{[k]} &= \\sigma\\left(\\vec{x}^{[k]}_t {\\mattr{W}_{\\mathrm{xr}}}^{[k]} +\n",
    "    \\vec{h}_{t-1}^{[k]} {\\mattr{W}_{\\mathrm{hr}}}^{[k]} + \\vec{b}_{\\mathrm{r}}^{[k]}\\right) \\\\\n",
    "\\vec{g_t}^{[k]} &= \\tanh\\left(\\vec{x}^{[k]}_t {\\mattr{W}_{\\mathrm{xg}}}^{[k]} +\n",
    "    (\\vec{r_t}^{[k]}\\odot\\vec{h}_{t-1}^{[k]}) {\\mattr{W}_{\\mathrm{hg}}}^{[k]} + \\vec{b}_{\\mathrm{g}}^{[k]}\\right) \\\\\n",
    "\\vec{h_t}^{[k]} &= \\vec{z}^{[k]}_t \\odot \\vec{h}^{[k]}_{t-1} + \\left(1-\\vec{z}^{[k]}_t\\right)\\odot \\vec{g_t}^{[k]}\n",
    "\\end{align}\n",
    "$$"
   ]
  },
  {
   "cell_type": "markdown",
   "metadata": {},
   "source": [
    "The input to each layer is,\n",
    "$$\n",
    "\\mat{X}^{[k]} =\n",
    "\\begin{bmatrix}\n",
    "    {\\vec{x}_1}^{[k]} \\\\ \\vdots \\\\ {\\vec{x}_S}^{[k]}\n",
    "\\end{bmatrix} \n",
    "=\n",
    "\\begin{cases}\n",
    "    \\mat{X} & \\mathrm{if} ~k = 1~ \\\\\n",
    "    \\mathrm{dropout}_p \\left(\n",
    "    \\begin{bmatrix}\n",
    "        {\\vec{h}_1}^{[k-1]} \\\\ \\vdots \\\\ {\\vec{h}_S}^{[k-1]}\n",
    "    \\end{bmatrix} \\right) & \\mathrm{if} ~1 < k \\leq L+1~\n",
    "\\end{cases}.\n",
    "$$"
   ]
  },
  {
   "cell_type": "markdown",
   "metadata": {},
   "source": [
    "The output of the entire model is then,\n",
    "$$\n",
    "\\mat{Y} = \\mat{X}^{[L+1]} {\\mattr{W}_{\\mathrm{hy}}} + \\mat{B}_{\\mathrm{y}}\n",
    "$$"
   ]
  },
  {
   "cell_type": "markdown",
   "metadata": {},
   "source": [
    "and the final hidden state is\n",
    "$$\n",
    "\\mat{H} = \n",
    "\\begin{bmatrix}\n",
    "    {\\vec{h}_S}^{[1]} \\\\ \\vdots \\\\ {\\vec{h}_S}^{[L]}\n",
    "\\end{bmatrix}.\n",
    "$$"
   ]
  },
  {
   "cell_type": "markdown",
   "metadata": {},
   "source": [
    "Notes:\n",
    "- $t\\in[1,S]$ is the timestep, i.e. the current position within the sequence of each sample.\n",
    "- $\\vec{x}_t^{[k]}$ is the input of layer $k$ at timestep $t$, respectively.\n",
    "- The outputs of the **last layer** $\\vec{y}_t^{[L]}$, are the predicted next characters for every input char.\n",
    "  These are similar to class scores in classification tasks.\n",
    "- The hidden states at the **last timestep**, $\\vec{h}_S^{[k]}$, are the final hidden state returned from the model.\n",
    "- $\\sigma(\\cdot)$ is the sigmoid function, i.e. $\\sigma(\\vec{z}) = 1/(1+e^{-\\vec{z}})$ which returns values in $(0,1)$.\n",
    "- $\\tanh(\\cdot)$ is the hyperbolic tangent, i.e. $\\tanh(\\vec{z}) = (e^{2\\vec{z}}-1)/(e^{2\\vec{z}}+1)$ which returns values in $(-1,1)$.\n",
    "- $\\vec{h_t}^{[k]}$ is the hidden state of layer $k$ at time $t$. This can be thought of as the memory of that layer.\n",
    "- $\\vec{g_t}^{[k]}$ is the candidate hidden state for time $t+1$.\n",
    "- $\\vec{z_t}^{[k]}$ is known as the update gate. It combines the previous state with the input to determine how much the current state will be combined with the new candidate state. For example, if $\\vec{z_t}^{[k]}=\\vec{1}$ then the current input has no effect on the output.\n",
    "- $\\vec{r_t}^{[k]}$ is known as the reset gate. It combines the previous state with the input to determine how much of the previous state will affect the current state candidate. For example if $\\vec{r_t}^{[k]}=\\vec{0}$ the previous state has no effect on the current candidate state."
   ]
  },
  {
   "cell_type": "markdown",
   "metadata": {},
   "source": [
    "Here's a graphical representation of the GRU's forward pass at each timestep. The $\\vec{\\tilde{h}}$ in the image is our $\\vec{g}$ (candidate next state).\n",
    "\n",
    "<img src=\"imgs/gru_cell.png\" width=\"400\"/>\n",
    "\n",
    "You can see how the reset and update gates allow the model to completely ignore it's previous state, completely ignore it's input, or any mixture of those states (since the gates are actually continuous and between $(0,1)$)."
   ]
  },
  {
   "cell_type": "markdown",
   "metadata": {},
   "source": [
    "Here's a graphical representation of the entire model.\n",
    "You can ignore the $c_t^{[k]}$ (cell state) variables (which are relevant for LSTM models).\n",
    "Our model has only the hidden state, $h_t^{[k]}$. Also notice that we added dropout between layers (i.e., on the up arrows).\n",
    "\n",
    "<img src=\"imgs/lstm_model.png\" />\n",
    "\n",
    "The purple tensors are inputs (a sequence and initial hidden state per layer), and the green tensors are outputs (another sequence and final hidden state per layer). Each blue block implements the above forward equations.\n",
    "Blocks that are on the same vertical level are at the same layer, and therefore share parameters."
   ]
  },
  {
   "cell_type": "markdown",
   "metadata": {},
   "source": [
    "**TODO**: Implement the `MultilayerGRU` class in the `hw3/charnn.py` module.\n",
    "\n",
    "Notes:\n",
    "- You'll need to handle input **batches** now.\n",
    "  The math is identical to the above, but all the tensors will have an extra batch\n",
    "  dimension as their first dimension.\n",
    "- Use the diagram above to help guide your implementation.\n",
    "  It will help you visualize what shapes to returns where, etc.\n"
   ]
  },
  {
   "cell_type": "code",
   "execution_count": 56,
   "metadata": {
    "pycharm": {
     "is_executing": false
    }
   },
   "outputs": [
    {
     "name": "stdout",
     "output_type": "stream",
     "text": [
      "MultilayerGRU(\n",
      "  (xz0): Linear(in_features=78, out_features=256, bias=False)\n",
      "  (hz0): Linear(in_features=256, out_features=256, bias=True)\n",
      "  (xr0): Linear(in_features=78, out_features=256, bias=False)\n",
      "  (hr0): Linear(in_features=256, out_features=256, bias=True)\n",
      "  (xg0): Linear(in_features=78, out_features=256, bias=False)\n",
      "  (hg0): Linear(in_features=256, out_features=256, bias=True)\n",
      "  (xz1): Linear(in_features=256, out_features=256, bias=False)\n",
      "  (hz1): Linear(in_features=256, out_features=256, bias=True)\n",
      "  (xr1): Linear(in_features=256, out_features=256, bias=False)\n",
      "  (hr1): Linear(in_features=256, out_features=256, bias=True)\n",
      "  (xg1): Linear(in_features=256, out_features=256, bias=False)\n",
      "  (hg1): Linear(in_features=256, out_features=256, bias=True)\n",
      "  (xz2): Linear(in_features=256, out_features=256, bias=False)\n",
      "  (hz2): Linear(in_features=256, out_features=256, bias=True)\n",
      "  (xr2): Linear(in_features=256, out_features=256, bias=False)\n",
      "  (hr2): Linear(in_features=256, out_features=256, bias=True)\n",
      "  (xg2): Linear(in_features=256, out_features=256, bias=False)\n",
      "  (hg2): Linear(in_features=256, out_features=256, bias=True)\n",
      "  (hy3): Linear(in_features=256, out_features=78, bias=True)\n",
      ")\n",
      "y.shape=torch.Size([32, 64, 78])\n",
      "h.shape=torch.Size([32, 3, 256])\n"
     ]
    }
   ],
   "source": [
    "in_dim = vocab_len\n",
    "h_dim = 256\n",
    "n_layers = 3\n",
    "model = charnn.MultilayerGRU(in_dim, h_dim, out_dim=in_dim, n_layers=n_layers)\n",
    "model = model.to(device)\n",
    "print(model)\n",
    "\n",
    "# Test forward pass\n",
    "y, h = model(x0.to(dtype=torch.float))\n",
    "print(f'y.shape={y.shape}')\n",
    "print(f'h.shape={h.shape}')\n",
    "\n",
    "test.assertEqual(y.shape, (batch_size, seq_len, vocab_len))\n",
    "test.assertEqual(h.shape, (batch_size, n_layers, h_dim))\n",
    "test.assertEqual(len(list(model.parameters())), 9 * n_layers + 2) "
   ]
  },
  {
   "cell_type": "markdown",
   "metadata": {},
   "source": [
    "### Generating text by sampling\n",
    "<a id=part1_6></a>"
   ]
  },
  {
   "cell_type": "markdown",
   "metadata": {},
   "source": [
    "Now that we have a model, we can implement **text generation** based on it.\n",
    "The idea is simple:\n",
    "At each timestep our model receives one char $x_t$ from the input sequence and outputs scores $y_t$\n",
    "for what the next char should be.\n",
    "We'll convert these scores into a probability over each of the possible chars.\n",
    "In other words, for each input char $x_t$ we create a probability distribution for the next char\n",
    "conditioned on the current one and the state of the model (representing all previous inputs):\n",
    "$$p(x_{t+1}|x_t, \\vec{h}_t).$$\n",
    "\n",
    "Once we have such a distribution, we'll sample a char from it.\n",
    "This will be the first char of our generated sequence.\n",
    "Now we can feed this new char into the model, create another distribution, sample the next char and so on.\n",
    "Note that it's crucial to propagate the hidden state when sampling."
   ]
  },
  {
   "cell_type": "markdown",
   "metadata": {},
   "source": [
    "The important point however is how to create the distribution from the scores.\n",
    "One way, as we saw in previous ML tasks, is to use the softmax function.\n",
    "However, a drawback of softmax is that it can generate very diffuse (more uniform) distributions if the score values are very similar. When sampling, we would prefer to control the distributions and make them less uniform to increase the chance of sampling the char(s) with the highest scores compared to the others.\n",
    "\n",
    "To control the variance of the distribution, a common trick is to add a hyperparameter $T$, known as the \n",
    "*temperature* to the softmax function. The class scores are simply scaled by $T$ before softmax is applied:\n",
    "$$\n",
    "\\mathrm{softmax}_T(\\vec{y}) = \\frac{e^{\\vec{y}/T}}{\\sum_k e^{y_k/T}}\n",
    "$$\n",
    "\n",
    "A low $T$ will result in less uniform distributions and vice-versa."
   ]
  },
  {
   "cell_type": "markdown",
   "metadata": {},
   "source": [
    "**TODO**: Implement the `hot_softmax()` function in the `hw3/charnn.py` module."
   ]
  },
  {
   "cell_type": "code",
   "execution_count": 57,
   "metadata": {
    "pycharm": {
     "is_executing": false
    }
   },
   "outputs": [
    {
     "data": {
      "image/png": "[encoded data removed]",
      "text/plain": [
       "<Figure size 1080x360 with 1 Axes>"
      ]
     },
     "metadata": {
      "needs_background": "light"
     },
     "output_type": "display_data"
    }
   ],
   "source": [
    "scores = y[0,0,:].detach()\n",
    "_, ax = plt.subplots(figsize=(15,5))\n",
    "\n",
    "for t in reversed([0.3, 0.5, 1.0, 100]):\n",
    "    ax.plot(charnn.hot_softmax(scores, temperature=t).cpu().numpy(), label=f'T={t}')\n",
    "ax.set_xlabel('$x_{t+1}$')\n",
    "ax.set_ylabel('$p(x_{t+1}|x_t)$')\n",
    "ax.legend()\n",
    "\n",
    "uniform_proba = 1/len(char_to_idx)\n",
    "uniform_diff = torch.abs(charnn.hot_softmax(scores, temperature=100) - uniform_proba)\n",
    "test.assertTrue(torch.all(uniform_diff < 1e-4))"
   ]
  },
  {
   "cell_type": "markdown",
   "metadata": {},
   "source": [
    "**TODO**: Implement the `generate_from_model()` function in the `hw3/charnn.py` module."
   ]
  },
  {
   "cell_type": "code",
   "execution_count": 58,
   "metadata": {
    "pycharm": {
     "is_executing": false
    }
   },
   "outputs": [
    {
     "name": "stdout",
     "output_type": "stream",
     "text": [
      "foobar)(QN6i:[ck)?xdNm?\"I5r];]HmlC91rxA.(CYdWMBbUX\n",
      "foobar6\"Xo88]OBmk3nC[W[8na\n",
      "t) 0M88qVt?UoEwUBp3O9Q:\n",
      "foobarm8U'RiWVz3T)e15lJO:tEa96Q&m\"(fPH&8YZ4:&[Ix(l\n"
     ]
    }
   ],
   "source": [
    "for _ in range(3):\n",
    "    text = charnn.generate_from_model(model, \"foobar\", 50, (char_to_idx, idx_to_char), T=0.5)\n",
    "    print(text)\n",
    "    test.assertEqual(len(text), 50)"
   ]
  },
  {
   "cell_type": "markdown",
   "metadata": {},
   "source": [
    "### Training\n",
    "<a id=part1_7></a>"
   ]
  },
  {
   "cell_type": "markdown",
   "metadata": {},
   "source": [
    "To train this model, we'll calculate the loss at each time step by comparing the predicted char to\n",
    "the actual char from our label. We can use cross entropy since per char it's similar to a classification problem.\n",
    "We'll then sum the losses over the sequence and back-propagate the gradients though time.\n",
    "Notice that the back-propagation algorithm will \"visit\" each layer's parameter tensors multiple times,\n",
    "so we'll accumulate gradients in parameters of the blocks. Luckily `autograd` will handle this part for us."
   ]
  },
  {
   "cell_type": "markdown",
   "metadata": {},
   "source": [
    "As usual, the first step of training will be to try and **overfit** a large model (many parameters) to a tiny dataset.\n",
    "Again, this is to ensure the model and training code are implemented correctly, i.e. that the model can learn.\n",
    "\n",
    "For a generative model such as this, overfitting is slightly trickier than for for classification.\n",
    "What we'll aim to do is to get our model to **memorize** a specific sequence of chars, so that when given the first\n",
    "char in the sequence it will immediately spit out the rest of the sequence verbatim.\n",
    "\n",
    "Let's create a tiny dataset to memorize."
   ]
  },
  {
   "cell_type": "code",
   "execution_count": 59,
   "metadata": {
    "pycharm": {
     "is_executing": false
    }
   },
   "outputs": [
    {
     "name": "stdout",
     "output_type": "stream",
     "text": [
      "Text to \"memorize\":\n",
      "\n",
      "TRAM. What would you have?\n",
      "  HELENA. Something; and scarce so much; nothing, indeed.\n",
      "    I would not tell you what I would, my lord.\n",
      "    Faith, yes:\n",
      "    Strangers and foes do sunder and not kiss.\n",
      "  BERTRAM. I pray you, stay not, but in haste to horse.\n",
      "  HE\n"
     ]
    }
   ],
   "source": [
    "# Pick a tiny subset of the dataset\n",
    "subset_start, subset_end = 1001, 1005\n",
    "ds_corpus_ss = torch.utils.data.Subset(ds_corpus, range(subset_start, subset_end))\n",
    "batch_size_ss = 1\n",
    "sampler_ss = SequenceBatchSampler(ds_corpus_ss, batch_size=batch_size_ss)\n",
    "dl_corpus_ss = torch.utils.data.DataLoader(ds_corpus_ss, batch_size_ss, sampler=sampler_ss, shuffle=False)\n",
    "\n",
    "# Convert subset to text\n",
    "subset_text = ''\n",
    "for i in range(subset_end - subset_start):\n",
    "    subset_text += unembed(ds_corpus_ss[i][0])\n",
    "print(f'Text to \"memorize\":\\n\\n{subset_text}')"
   ]
  },
  {
   "cell_type": "markdown",
   "metadata": {},
   "source": [
    "Now let's implement the first part of our training code.\n",
    "\n",
    "**TODO**: Implement the `train_epoch()` and `train_batch()` methods of the `RNNTrainer` class in the `hw3/training.py` module. \n",
    "You must think about how to correctly handle the hidden state of the model between batches and epochs for this specific task (i.e. text generation)."
   ]
  },
  {
   "cell_type": "code",
   "execution_count": 60,
   "metadata": {
    "pycharm": {
     "is_executing": false
    }
   },
   "outputs": [
    {
     "name": "stdout",
     "output_type": "stream",
     "text": [
      "\n",
      "Epoch #1: Avg. loss = 3.940, Accuracy = 17.58%\n",
      "Tit                                                                                                                                                                                                                                                             \n",
      "\n",
      "Epoch #25: Avg. loss = 0.271, Accuracy = 96.09%\n",
      "TRAM. What would you have?\n",
      "  HELENA. Something; and scarce so much; nothing, indeed.\n",
      "    I would not teld and not kiss.\n",
      "  BERTRAM. I pray you, stay not, but in haste to horse.\n",
      "  HELERAM. I pray you, stay not, but in haste to horse.\n",
      "  HELERAM. I pray you, s\n",
      "\n",
      "Epoch #50: Avg. loss = 0.008, Accuracy = 100.00%\n",
      "TRAM. What would you have?\n",
      "  HELENA. Something; and scarce so much; nothing, indeed.\n",
      "    I would not tell you what I would, my lord.\n",
      "    Faith, yes:\n",
      "    Strangers and foes do sunder and not kiss.\n",
      "  BERTRAM. I pray you, stay not, but in haste to horse.\n",
      "  HE\n"
     ]
    }
   ],
   "source": [
    "import torch.nn as nn\n",
    "import torch.optim as optim\n",
    "from hw3.training import RNNTrainer\n",
    "\n",
    "torch.manual_seed(42)\n",
    "\n",
    "lr = 0.01\n",
    "num_epochs = 500\n",
    "\n",
    "in_dim = vocab_len\n",
    "h_dim = 128\n",
    "n_layers = 2\n",
    "loss_fn = nn.CrossEntropyLoss()\n",
    "model = charnn.MultilayerGRU(in_dim, h_dim, out_dim=in_dim, n_layers=n_layers).to(device)\n",
    "optimizer = optim.Adam(model.parameters(), lr=lr)\n",
    "trainer = RNNTrainer(model, loss_fn, optimizer, device)\n",
    "\n",
    "for epoch in range(num_epochs):\n",
    "    epoch_result = trainer.train_epoch(dl_corpus_ss, verbose=False)\n",
    "    \n",
    "    # Every X epochs, we'll generate a sequence starting from the first char in the first sequence\n",
    "    # to visualize how/if/what the model is learning.\n",
    "    if epoch == 0 or (epoch+1) % 25 == 0:\n",
    "        avg_loss = np.mean(epoch_result.losses)\n",
    "        accuracy = np.mean(epoch_result.accuracy)\n",
    "        print(f'\\nEpoch #{epoch+1}: Avg. loss = {avg_loss:.3f}, Accuracy = {accuracy:.2f}%')\n",
    "        \n",
    "        generated_sequence = charnn.generate_from_model(model, subset_text[0],\n",
    "                                                        seq_len*(subset_end-subset_start),\n",
    "                                                        (char_to_idx,idx_to_char), T=0.1)\n",
    "        \n",
    "        # Stop if we've successfully memorized the small dataset.\n",
    "        print(generated_sequence)\n",
    "        if generated_sequence == subset_text:\n",
    "            break\n",
    "\n",
    "# Test successful overfitting\n",
    "test.assertGreater(epoch_result.accuracy, 99)\n",
    "test.assertEqual(generated_sequence, subset_text)"
   ]
  },
  {
   "cell_type": "markdown",
   "metadata": {},
   "source": [
    "OK, so training works - we can memorize a short sequence.\n",
    "We'll now train a much larger model on our large dataset. You'll need a GPU for this part.\n",
    "\n",
    "First, lets set up our dataset and models for training.\n",
    "We'll split our corpus into 90% train and 10% test-set.\n",
    "Also, we'll use a learning-rate scheduler to control the learning rate during training."
   ]
  },
  {
   "cell_type": "markdown",
   "metadata": {},
   "source": [
    "**TODO**: Set the hyperparameters in the `part1_rnn_hyperparams()` function of the `hw3/answers.py` module."
   ]
  },
  {
   "cell_type": "code",
   "execution_count": 61,
   "metadata": {
    "pycharm": {
     "is_executing": false
    }
   },
   "outputs": [
    {
     "name": "stdout",
     "output_type": "stream",
     "text": [
      "hyperparams:\n",
      " {'batch_size': 256, 'seq_len': 64, 'h_dim': 512, 'n_layers': 3, 'dropout': 0.5, 'learn_rate': 0.001, 'lr_sched_factor': 0.5, 'lr_sched_patience': 2}\n",
      "Train: 348 batches, 5701632 chars\n",
      "Test:   38 batches,  622592 chars\n"
     ]
    }
   ],
   "source": [
    "from hw3.answers import part1_rnn_hyperparams\n",
    "\n",
    "hp = part1_rnn_hyperparams()\n",
    "print('hyperparams:\\n', hp)\n",
    "\n",
    "### Dataset definition\n",
    "vocab_len = len(char_to_idx)\n",
    "batch_size = hp['batch_size']\n",
    "seq_len = hp['seq_len']\n",
    "train_test_ratio = 0.9\n",
    "num_samples = (len(corpus) - 1) // seq_len\n",
    "num_train = int(train_test_ratio * num_samples)\n",
    "\n",
    "samples, labels = charnn.chars_to_labelled_samples(corpus, char_to_idx, seq_len, device)\n",
    "\n",
    "ds_train = torch.utils.data.TensorDataset(samples[:num_train], labels[:num_train])\n",
    "sampler_train = SequenceBatchSampler(ds_train, batch_size)\n",
    "dl_train = torch.utils.data.DataLoader(ds_train, batch_size, shuffle=False, sampler=sampler_train, drop_last=True)\n",
    "\n",
    "ds_test = torch.utils.data.TensorDataset(samples[num_train:], labels[num_train:])\n",
    "sampler_test = SequenceBatchSampler(ds_test, batch_size)\n",
    "dl_test = torch.utils.data.DataLoader(ds_test, batch_size, shuffle=False, sampler=sampler_test, drop_last=True)\n",
    "\n",
    "print(f'Train: {len(dl_train):3d} batches, {len(dl_train)*batch_size*seq_len:7d} chars')\n",
    "print(f'Test:  {len(dl_test):3d} batches, {len(dl_test)*batch_size*seq_len:7d} chars')\n",
    "\n",
    "### Training definition\n",
    "in_dim = out_dim = vocab_len\n",
    "checkpoint_file = 'checkpoints/rnn'\n",
    "num_epochs = 50\n",
    "early_stopping = 5\n",
    "\n",
    "model = charnn.MultilayerGRU(in_dim, hp['h_dim'], out_dim, hp['n_layers'], hp['dropout'])\n",
    "loss_fn = nn.CrossEntropyLoss()\n",
    "optimizer = optim.Adam(model.parameters(), lr=hp['learn_rate'])\n",
    "scheduler = optim.lr_scheduler.ReduceLROnPlateau(\n",
    "    optimizer, mode='max', factor=hp['lr_sched_factor'], patience=hp['lr_sched_patience'], verbose=True\n",
    ")\n",
    "trainer = RNNTrainer(model, loss_fn, optimizer, device)"
   ]
  },
  {
   "cell_type": "markdown",
   "metadata": {},
   "source": [
    "The code blocks below will train the model and save checkpoints containing the training state and the best model parameters to a file. This allows you to stop training and resume it later from where you left.\n",
    "\n",
    "Note that you can use the `main.py` script provided within the assignment folder to run this notebook from the command line as if it were a python script by using the `run-nb` subcommand. This allows you to train your model using this notebook without starting jupyter. You can combine this with `srun` or `sbatch` to run the notebook with a GPU on the course servers."
   ]
  },
  {
   "cell_type": "markdown",
   "metadata": {},
   "source": [
    "**TODO**:\n",
    "- Implement the `fit()` method of the `Trainer` class. You can reuse the relevant implementation parts from HW2, but make sure to implement early stopping and checkpoints.\n",
    "- Implement the `test_epoch()` and `test_batch()` methods of the `RNNTrainer` class in the `hw3/training.py` module.\n",
    "- Run the following block to train.\n",
    "- When training is done and you're satisfied with the model's outputs, rename the checkpoint file to `checkpoints/rnn_final.pt`.\n",
    "  This will cause the block to skip training and instead load your saved model when running the homework submission script.\n",
    "  Note that your submission zip file will not include the checkpoint file. This is OK."
   ]
  },
  {
   "cell_type": "code",
   "execution_count": 62,
   "metadata": {
    "pycharm": {
     "is_executing": false
    }
   },
   "outputs": [
    {
     "name": "stdout",
     "output_type": "stream",
     "text": [
      "ACT I.TI6mFS.c-2C!yIml:f,cY-6XbA5\n",
      "7Ia\"!2vIt3eq&VlW32GTcPp1&tG7GFy[yDy8'8u!UM;dt2:4 fHwmag q:eP:yv1jF\n",
      "--- EPOCH 1/50 ---\n",
      "train_batch (Avg. Loss 2.166, Accuracy 40.0): 100%|██████████| 348/348 [02:32<00:00,  2.28it/s]\n",
      "test_batch (Avg. Loss 1.823, Accuracy 45.4): 100%|██████████| 38/38 [00:06<00:00,  6.20it/s]\n",
      "*** Saved checkpoint checkpoints/rnn.pt at epoch 1\n",
      "ACT I. I have a counted\n",
      "    And and the seak would\n",
      "    If the paty,\n",
      "    He would the would\n",
      "    The r\n",
      "--- EPOCH 2/50 ---\n",
      "train_batch (Avg. Loss 1.616, Accuracy 52.3): 100%|██████████| 348/348 [02:35<00:00,  2.23it/s]\n",
      "test_batch (Avg. Loss 1.568, Accuracy 52.2): 100%|██████████| 38/38 [00:07<00:00,  5.22it/s]\n",
      "*** Saved checkpoint checkpoints/rnn.pt at epoch 2\n",
      "ACT I.\n",
      "  SERIVA. What my soul.\n",
      "  CLAWEN. But that the stood\n",
      "                                        \n",
      "--- EPOCH 3/50 ---\n",
      "train_batch (1.489):  24%|██▍       | 83/348 [00:36<01:56,  2.27it/s]\n",
      "\n",
      " *** Training interrupted by user\n"
     ]
    }
   ],
   "source": [
    "from cs236781.plot import plot_fit\n",
    "\n",
    "def post_epoch_fn(epoch, train_res, test_res, verbose):\n",
    "    # Update learning rate\n",
    "    scheduler.step(test_res.accuracy)\n",
    "    # Sample from model to show progress\n",
    "    if verbose:\n",
    "        start_seq = \"ACT I.\"\n",
    "        generated_sequence = charnn.generate_from_model(\n",
    "            model, start_seq, 100, (char_to_idx,idx_to_char), T=0.5\n",
    "        )\n",
    "        print(generated_sequence)\n",
    "\n",
    "# Train, unless final checkpoint is found\n",
    "checkpoint_file_final = f'{checkpoint_file}_final.pt'\n",
    "if os.path.isfile(checkpoint_file_final):\n",
    "    print(f'*** Loading final checkpoint file {checkpoint_file_final} instead of training')\n",
    "    saved_state = torch.load(checkpoint_file_final, map_location=device)\n",
    "    model.load_state_dict(saved_state['model_state'])\n",
    "else:\n",
    "    try:\n",
    "        # Print pre-training sampling\n",
    "        print(charnn.generate_from_model(model, \"ACT I.\", 100, (char_to_idx,idx_to_char), T=0.5))\n",
    "\n",
    "        fit_res = trainer.fit(dl_train, dl_test, num_epochs, max_batches=None,\n",
    "                              post_epoch_fn=post_epoch_fn, early_stopping=early_stopping,\n",
    "                              checkpoints=checkpoint_file, print_every=1)\n",
    "        \n",
    "        fig, axes = plot_fit(fit_res)\n",
    "    except KeyboardInterrupt as e:\n",
    "        print('\\n *** Training interrupted by user')"
   ]
  },
  {
   "cell_type": "markdown",
   "metadata": {},
   "source": [
    "### Generating a work of art\n",
    "<a id=part1_8></a>"
   ]
  },
  {
   "cell_type": "markdown",
   "metadata": {},
   "source": [
    "Armed with our fully trained model, let's generate the next Hamlet! You should experiment with modifying the sampling temperature and see what happens.\n",
    "\n",
    "The text you generate should “look” like a Shakespeare play:\n",
    "old-style English words and sentence structure, directions for the actors\n",
    "(like “Exit/Enter”), sections (Act I/Scene III) etc.\n",
    "There will be no coherent plot of course, but it should at least seem like\n",
    "a Shakespearean play when not looking too closely.\n",
    "If this is not what you see, go back, debug and/or and re-train.\n",
    "\n",
    "**TODO**: Specify the generation parameters in the `part1_generation_params()` function within the `hw3/answers.py` module."
   ]
  },
  {
   "cell_type": "code",
   "execution_count": 64,
   "metadata": {
    "pycharm": {
     "is_executing": false
    }
   },
   "outputs": [
    {
     "name": "stdout",
     "output_type": "stream",
     "text": [
      "ACT I.\n",
      "  ANTONY OF SERVAN\n",
      "\n",
      "  KING RICHARD\n",
      "\n",
      "  ANTONES. I will no down.\n",
      "  PISTOR. What the rest\n",
      "                                                Exit\n",
      "  FALSTAN OF ELANZE the King PARDER\n",
      "\n",
      "  FOLD OF CANTHAR\n",
      "\n",
      "  LORD. A will be\n",
      "  AGAEN. The some served\n",
      "    The King and my\n",
      "                                           Exeunt\n",
      "\n",
      "SCENE\n",
      "\n",
      "  ANTONY and CAENAR]                 Exeunt\n",
      "\n",
      "  COSSER SONDER]               Exeunt\n",
      "\n",
      "  CONIOLANUS\n",
      "  FARSTAR. What hath the strong.\n",
      "  PANDOR. What see the rest\n",
      "  KING JOKN OF SERVANT\n",
      "\n",
      "  PAREOLA. Some sorrows\n",
      "                                                           Exit SERVA\n",
      "\n",
      "  BARDARES. The King.\n",
      "  KING RICHAR\n",
      "\n",
      "  CASTER. I will be\n",
      "                                                                                          Exit SERVAR\n",
      "\n",
      "                 Exit SERVAN\n",
      "\n",
      "  OLIVER. SECOND MENENI\n",
      "                                      Exeunt\n",
      "\n",
      "                            Exit SARVAR\n",
      "\n",
      "  CASSEN. My lord,\n",
      "                                                         Exit\n",
      "\n",
      "SCENE I\n",
      "\n",
      "Enter SERVANT\n",
      "\n",
      "  PRINCE. The spare\n",
      "                                                                                                      [Exeunt\n",
      "\n",
      "  KING RICHAR SERAST\n",
      "\n",
      "  FORD] I will not be\n",
      "  A GENTLENAR\n",
      "  CASSIA. They see they\n",
      "                                                   Exeunt\n",
      "\n",
      "                                Exeunt to she\n",
      "    Have the seals\n",
      "    Conten\n",
      "    The King\n",
      "                                                        Exeunt\n",
      "\n",
      "                                     Exeunt\n",
      "\n",
      "    The King Henry a\n",
      "  LESTURe and MARCA\n",
      "    The Duke of the good.\n",
      "  PRINCES\n",
      "  ANTONIUS and GONEN STENEN\n",
      "\n",
      "  ANTENA. I will not\n",
      "                                         Exeunt some\n",
      "                               Exit\n",
      "  PARDER. I have me the \n",
      "  COUNTESS\n",
      "  PAREO. A propes,\n",
      "                              Exeunt\n",
      "\n",
      "SCENE a France,\n",
      "The come of the\n",
      "                                         Exeunt\n",
      "\n",
      "  FLANCE.\n",
      "  ANTONES MARGARES, and the King\n",
      "                                              Exeunt\n",
      "\n",
      "                                      Exeunt\n",
      "\n",
      "                                               Exit MORTER\n",
      "  PAROTLA. What, sir,\n",
      "                                                                                                       [The DOKN.\n",
      "  CHESDER. He is good so make\n",
      "    The souls of the dead.\n",
      "  PAGE to the King.\n",
      "  FOLD OF ENVER]\n",
      "  FALSTAF OLY ANNE and SERVANT\n",
      "\n",
      "  CORIOLANUS. I will not here\n",
      "                                                         ExIUN\n",
      "    The KING RICHARD and SERVAN\n",
      "\n",
      "             Enter And the read\n",
      "                      Exeunt\n",
      "\n",
      "  CLEONER\n",
      "  FORD MORTHALER\n",
      "\n",
      "  CHORUS OF YORK\n",
      "\n",
      "  CORTIA. So much\n",
      "                         Exit SERATO\n",
      "                               Exit SERVANS\n",
      "\n",
      "  PROPES. What some\n",
      "                                 Exit SERVAN\n",
      "\n",
      "  CORIZAN. The King.\n",
      "  CLETER. So many here\n",
      "                   Exeunt\n",
      "\n",
      "  PROTES. The King\n",
      "                                            Exit\n",
      "  KING RICHAR\n",
      "    The seast\n",
      "    Of there\n",
      "                                   Exeunt\n",
      "\n",
      "  POLINE and Durse and\n",
      "                                                       Exeunt\n",
      "\n",
      "                              Exeunt\n",
      "\n",
      "               Enter\n",
      "\n",
      "  CLAREN. When I\n",
      "                                      Exeunt\n",
      "\n",
      "  CASSIA and SERVAN\n",
      "\n",
      "  FLAVER. The King.\n",
      "  KING RICHAR\n",
      "  LORD. What shall to here\n",
      "    On the straight\n",
      "    The straight.\n",
      "  PARDOLEE. He come.\n",
      "  PARIO. She love\n",
      "                                                           [Do some sours,\n",
      "                                                         Exeunt\n",
      "\n",
      "                                                               Exeunt\n",
      "\n",
      "ACT II SON\n",
      "  SIR GOND HINGER, and the King of the dread\n",
      "    And here.\n",
      "  PAGE. I will be me\n",
      "                                                            ExIUS\n",
      "    The King\n",
      "                                                             Exeunt\n",
      "\n",
      "  MORANA. My lord,\n",
      "                                      Exit\n",
      "  AGAEN OF SERVAN\n",
      "\n",
      "  COSTERS\n",
      "\n",
      "  CANSTARD. I would\n",
      "                                       Exit SERVANT\n",
      "\n",
      "  BANTOR. The common.\n",
      "  OLLIANE. The Dukes\n",
      "             Exeunt\n",
      "\n",
      "  PARIOLENO\n",
      "  SELVANS a will the send\n",
      "                                            Exeunt\n",
      "\n",
      "                          Exeunt\n",
      "\n",
      "  CELIA. Some sent\n",
      "    The DURKINS\n",
      "  PAGE and MARGARES\n",
      "\n",
      "  LORD. The dear,\n",
      "                                                         Exeunt\n",
      "\n",
      "  CAESAR. And the court\n",
      "                    Exit ANTONI\n",
      "  DEENCE\n",
      "  PROMEN. A should beto\n",
      "                                              Exit                                       Exeunt\n",
      "\n",
      "  BARDOL. The seas the comes\n",
      "    The To him of the\n",
      "                                                        Exeunt\n",
      "\n",
      "  ANTONES OF GLEOM  \n",
      "                        Exeunt\n",
      "\n",
      "               Exit Come, they\n",
      "    Here and the\n",
      "    The death.\n",
      "  FIRST EDTARD aNT\n",
      "  ANTONES and SIR TO Y. Where she\n",
      "                                                      Exeunt\n",
      "\n",
      "                 Exit\n",
      "  SARIALEN, and SERVANT\n",
      "\n",
      "  COUSTERS\n",
      "  PAROS. And the worth in the seas\n",
      "                                                           Exit\n",
      "  FIRST MORTAR. Sir, well,\n",
      "                           Exeunt\n",
      "\n",
      "  PARDIAS                  Exeunt\n",
      "\n",
      "  FILST COND RICKROS\n",
      "\n",
      "  MACBETH. Here's honour\n",
      "                                          Exeunt\n",
      "\n",
      "    CARSER and SERVAN\n",
      "\n",
      "  CORIOLANEN. I will be\n",
      "                                  Exit SARISAR\n",
      "  FORD OF SYRACUS, and I\n",
      "  POGER. How now,\n",
      "                                                                                   Exit.\n",
      "\n",
      "  FLORES.\n",
      "  CORIOLES SERVART\n",
      "\n",
      "  CORIONES. She is.\n",
      "  LECENT. She hath\n",
      "                                                          Exeunt\n",
      "\n",
      "  PROMONER and CARDER\n",
      "\n",
      "  CLAEN MENGLO\n",
      "\n",
      "  CHALE. There she\n",
      "    The words\n",
      "                           Exeunt\n",
      "                           Enter\n",
      "\n",
      "                     Exit\n",
      "  PATREM. I am to your\n",
      "                                               Exit\n",
      "\n",
      "  PARDOLENES. And the see\n",
      "                                       Exeunt\n",
      "\n",
      "               Exeunt\n",
      "\n",
      "                                                     Exit ANTONY\n",
      "    OF SERVANT\n",
      "  COLINENTER. What will not so love\n",
      "                                               From the King\n",
      "                             Exeunt\n",
      "\n",
      "  PARIAN. My lord,\n",
      "                                                    Exit\n",
      "  FALSTAF OF SERVAN\n",
      "\n",
      "  BROTKE. I will not so for me.\n",
      "  LORD BERTOLAN\n",
      "\n",
      "                     ERTER\n",
      "  CORIONAS OF SERVANT\n",
      "\n",
      "  COSTER. Ay, my lord.\n",
      "  CARIIA. So shall here\n",
      "                                   [ART HENREN\n",
      "  THERANE and CORIO]  \n",
      "  ENTARD. If I have the word\n",
      "                                                              Exit SERVARI\n",
      "\n",
      "  CASSIA.\n",
      "  PANDOR. Here is no more\n",
      "                                              Exeunt\n",
      "\n",
      "  COSSILA, MARGARES and CASTIA\n",
      "  PRIVER. What has\n",
      "                                                              Exit CATES\n",
      "  PARIO. The very hang\n",
      "                                               Exeunt\n",
      "  THERES and SERVANT\n",
      "    He shall to the sloke\n",
      "                                                                                                                           Exeunt\n",
      "\n",
      "  CASSEA:\n",
      "                                                    Exeunt\n",
      "\n",
      "                               Exit SERVANT\n",
      "\n",
      "  KING RICHART\n",
      "\n",
      "  COUNTER]\n",
      "  PISTOR. He is a sorrow\n",
      "                         Exeunt\n",
      "\n",
      "  PASTIA. Here's here\n",
      "                                                                     Exeunt\n",
      "\n",
      "  COLINA. Now, I have a proped.\n",
      "  ANTONES OF SERVANT\n",
      "\n",
      "  ALIVARS and the read\n",
      "                                                       [Exit SERVAN\n",
      "\n",
      "  POTHARES. The grace\n",
      "                                Exeunt\n",
      "\n",
      "  KING RICHARD\n",
      "\n",
      "  CAESAR. Ay, good lord.\n",
      "  BALDOR. He is the remember.\n",
      "  PAGE. The King\n",
      "                                                                                            [The speak to the groons\n",
      "                      Exit\n",
      "                 Exit SERVANT\n",
      "\n",
      "  CLOWEN. The death.\n",
      "    The King HELLO]  The sense\n",
      "  FLORIZELE. What the strange,\n",
      "     The dead.\n",
      "  MACKINE. When he hath\n",
      "                                         [Exit\n",
      "  AGAEN ELINABRE\n",
      "                                        Exeunt\n",
      "\n",
      "  ROSANA. What hath\n",
      "    Here of the\n",
      "                                                           Exit SERVANS\n",
      "  BRUTUS. Then I am\n",
      "  AGAENTER]\n",
      "  ANTONIO and SORDEN\n",
      "\n",
      "  VOLUCES OF SERVAN\n",
      "\n",
      "  KING RICHART\n",
      "\n",
      "  CASSIA, and Cassio,\n",
      "                                 Exeunt\n",
      "\n",
      "                   Exit.\n",
      "  PALIO. Madam,\n",
      "                             Exit\n",
      "  SERVART. The King.\n",
      "             Exit SERVANT\n",
      "\n",
      "  CORIOLA.                             Exeunt\n",
      "\n",
      "  ANTONY with the\n",
      "                                                         Exeunt\n",
      "\n",
      "  CLOWEN, and the say the money come\n",
      "                                                   Exeunt\n",
      "\n",
      "SCENE and A Green,\n",
      "And the from the send\n",
      "                                              Exit PAROLUS\n",
      "\n",
      "  PADE OF SERVANT\n",
      "\n",
      "  BALDOLAR. And the dead.\n",
      "  KING RICHARD, MARDARES and CASSAR\n",
      "  CORINE. A forget\n",
      "                                   Exit\n",
      "\n",
      "SCENE\n",
      "\n",
      "  CARSTA\n",
      "  PRINEAR\n",
      "  PAGE. But we shall be the\n",
      "    For the seal\n",
      "    The hear the more\n",
      "    Than the King and\n",
      "                                    Exculles\n",
      "                                                                       Exeunt\n",
      "\n",
      "  PROTOUS. The come.\n",
      "  PAROLUS. He will not the\n",
      "  Hard of the son of the send\n",
      "                                                                                        [Exit SERVANS\n",
      "\n",
      "  CANSIA. Do your shall\n",
      "                                                                             Exeunt\n",
      "\n",
      "  KING RICHAR\n",
      "\n",
      "  CORIOLANUS. What is not\n",
      "                                                           Exeunt\n",
      "\n",
      "  CORIOLES MARD ELIVAR\n",
      "  INABERA\n",
      "\n",
      "  PAROLLEN. What she should her\n",
      "    Of the read\n",
      "                                                                                 [Exeunt\n",
      "\n",
      "  CORIAL t  \n",
      "  ELOX SERVAN\n",
      "\n",
      "  MARVAR. With him\n",
      "                                             Exit SERVAN\n",
      "\n",
      "  CAESIUS. Hath the no more to heart\n",
      "                                       [Exit SERVANT\n",
      "\n",
      "  COUSTARE.\n",
      "  ANTONES SECAND MARCHE\n",
      "\n",
      "  CALION OF FARDERS\n",
      "  ARTHARS\n",
      "  PADORAE. You some\n",
      "                               Exeunt\n",
      "\n",
      "                          Exit and\n",
      "                             \n"
     ]
    }
   ],
   "source": [
    "from hw3.answers import part1_generation_params\n",
    "\n",
    "start_seq, temperature = part1_generation_params()\n",
    "\n",
    "generated_sequence = charnn.generate_from_model(\n",
    "    model, start_seq, 10000, (char_to_idx,idx_to_char), T=temperature\n",
    ")\n",
    "\n",
    "print(generated_sequence)"
   ]
  },
  {
   "cell_type": "markdown",
   "metadata": {},
   "source": [
    "## Questions\n",
    "<a id=part1_9></a>"
   ]
  },
  {
   "cell_type": "markdown",
   "metadata": {},
   "source": [
    "**TODO** Answer the following questions. Write your answers in the appropriate variables in the module `hw3/answers.py`."
   ]
  },
  {
   "cell_type": "code",
   "execution_count": null,
   "metadata": {
    "pycharm": {
     "is_executing": false
    }
   },
   "outputs": [],
   "source": [
    "from cs236781.answers import display_answer\n",
    "import hw3.answers"
   ]
  },
  {
   "cell_type": "markdown",
   "metadata": {},
   "source": [
    "### Question 1\n",
    "Why do we split the corpus into sequences instead of training on the whole text?"
   ]
  },
  {
   "cell_type": "code",
   "execution_count": null,
   "metadata": {
    "pycharm": {
     "is_executing": false
    }
   },
   "outputs": [],
   "source": [
    "display_answer(hw3.answers.part1_q1)"
   ]
  },
  {
   "cell_type": "markdown",
   "metadata": {},
   "source": [
    "### Question 2\n",
    "How is it possible that the generated text clearly shows memory longer than the sequence length?"
   ]
  },
  {
   "cell_type": "code",
   "execution_count": null,
   "metadata": {
    "pycharm": {
     "is_executing": false
    }
   },
   "outputs": [],
   "source": [
    "display_answer(hw3.answers.part1_q2)"
   ]
  },
  {
   "cell_type": "markdown",
   "metadata": {},
   "source": [
    "### Question 3\n",
    "Why are we not shuffling the order of batches when training?"
   ]
  },
  {
   "cell_type": "code",
   "execution_count": null,
   "metadata": {
    "pycharm": {
     "is_executing": false
    }
   },
   "outputs": [],
   "source": [
    "display_answer(hw3.answers.part1_q3)"
   ]
  },
  {
   "cell_type": "markdown",
   "metadata": {},
   "source": [
    "### Question 4\n",
    "1. Why do we lower the temperature for sampling (compared to the default of $1.0$ when training)?\n",
    "2. What happens when the temperature is very high and why?\n",
    "3. What happens when the temperature is very low and why?"
   ]
  },
  {
   "cell_type": "code",
   "execution_count": null,
   "metadata": {
    "pycharm": {
     "is_executing": false
    }
   },
   "outputs": [],
   "source": [
    "display_answer(hw3.answers.part1_q4)"
   ]
  },
  {
   "cell_type": "code",
   "execution_count": null,
   "metadata": {},
   "outputs": [],
   "source": []
  }
 ],
 "metadata": {
  "kernelspec": {
   "display_name": "Python 3",
   "language": "python",
   "name": "python3"
  },
  "language_info": {
   "codemirror_mode": {
    "name": "ipython",
    "version": 3
   },
   "file_extension": ".py",
   "mimetype": "text/x-python",
   "name": "python",
   "nbconvert_exporter": "python",
   "pygments_lexer": "ipython3",
   "version": "3.7.4"
  },
  "pycharm": {
   "stem_cell": {
    "cell_type": "raw",
    "metadata": {
     "collapsed": false
    },
    "source": []
   }
  }
 },
 "nbformat": 4,
 "nbformat_minor": 4
}
