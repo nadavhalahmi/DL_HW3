{
 "cells": [
  {
   "cell_type": "markdown",
   "metadata": {},
   "source": [
    "$$\n",
    "\\newcommand{\\mat}[1]{\\boldsymbol {#1}}\n",
    "\\newcommand{\\mattr}[1]{\\boldsymbol {#1}^\\top}\n",
    "\\newcommand{\\matinv}[1]{\\boldsymbol {#1}^{-1}}\n",
    "\\newcommand{\\vec}[1]{\\boldsymbol {#1}}\n",
    "\\newcommand{\\vectr}[1]{\\boldsymbol {#1}^\\top}\n",
    "\\newcommand{\\rvar}[1]{\\mathrm {#1}}\n",
    "\\newcommand{\\rvec}[1]{\\boldsymbol{\\mathrm{#1}}}\n",
    "\\newcommand{\\diag}{\\mathop{\\mathrm {diag}}}\n",
    "\\newcommand{\\set}[1]{\\mathbb {#1}}\n",
    "\\newcommand{\\norm}[1]{\\left\\lVert#1\\right\\rVert}\n",
    "\\newcommand{\\pderiv}[2]{\\frac{\\partial #1}{\\partial #2}}\n",
    "\\newcommand{\\bb}[1]{\\boldsymbol{#1}}\n",
    "$$\n",
    "# Part 1: Sequence Models\n",
    "<a id=part1></a>"
   ]
  },
  {
   "cell_type": "markdown",
   "metadata": {},
   "source": [
    "In this part we will learn about working with text sequences using recurrent neural networks.\n",
    "We'll go from a raw text file all the way to a fully trained GRU-RNN model and generate works of art!"
   ]
  },
  {
   "cell_type": "code",
   "execution_count": 1,
   "metadata": {
    "pycharm": {
     "is_executing": false
    }
   },
   "outputs": [],
   "source": [
    "import unittest\n",
    "import os\n",
    "import sys\n",
    "import pathlib\n",
    "import urllib\n",
    "import shutil\n",
    "import re\n",
    "\n",
    "import numpy as np\n",
    "import torch\n",
    "import matplotlib.pyplot as plt\n",
    "\n",
    "%load_ext autoreload\n",
    "%autoreload 2"
   ]
  },
  {
   "cell_type": "code",
   "execution_count": 2,
   "metadata": {
    "pycharm": {
     "is_executing": false
    }
   },
   "outputs": [
    {
     "name": "stdout",
     "output_type": "stream",
     "text": [
      "Using device: cuda\n"
     ]
    }
   ],
   "source": [
    "test = unittest.TestCase()\n",
    "plt.rcParams.update({'font.size': 12})\n",
    "device = torch.device('cuda' if torch.cuda.is_available() else 'cpu')\n",
    "print('Using device:', device)"
   ]
  },
  {
   "cell_type": "markdown",
   "metadata": {},
   "source": [
    "## Text generation with a char-level RNN\n",
    "<a id=part1_1></a>"
   ]
  },
  {
   "cell_type": "markdown",
   "metadata": {},
   "source": [
    "### Obtaining the corpus\n",
    "<a id=part1_2></a>"
   ]
  },
  {
   "cell_type": "markdown",
   "metadata": {},
   "source": [
    "Let's begin by downloading a corpus containing all the works of William Shakespeare.\n",
    "Since he was very prolific, this corpus is fairly large and will provide us with enough data for\n",
    "obtaining impressive results."
   ]
  },
  {
   "cell_type": "code",
   "execution_count": 3,
   "metadata": {
    "pycharm": {
     "is_executing": false
    }
   },
   "outputs": [
    {
     "name": "stdout",
     "output_type": "stream",
     "text": [
      "Corpus file /home/nadavhalahmi/.pytorch-datasets/shakespeare.txt exists, skipping download.\n"
     ]
    }
   ],
   "source": [
    "CORPUS_URL = 'https://github.com/cedricdeboom/character-level-rnn-datasets/raw/master/datasets/shakespeare.txt'\n",
    "DATA_DIR = pathlib.Path.home().joinpath('.pytorch-datasets')\n",
    "\n",
    "def download_corpus(out_path=DATA_DIR, url=CORPUS_URL, force=False):\n",
    "    pathlib.Path(out_path).mkdir(exist_ok=True)\n",
    "    out_filename = os.path.join(out_path, os.path.basename(url))\n",
    "    \n",
    "    if os.path.isfile(out_filename) and not force:\n",
    "        print(f'Corpus file {out_filename} exists, skipping download.')\n",
    "    else:\n",
    "        print(f'Downloading {url}...')\n",
    "        with urllib.request.urlopen(url) as response, open(out_filename, 'wb') as out_file:\n",
    "            shutil.copyfileobj(response, out_file)\n",
    "        print(f'Saved to {out_filename}.')\n",
    "    return out_filename\n",
    "    \n",
    "corpus_path = download_corpus()"
   ]
  },
  {
   "cell_type": "markdown",
   "metadata": {},
   "source": [
    "Load the text into memory and print a snippet:"
   ]
  },
  {
   "cell_type": "code",
   "execution_count": 4,
   "metadata": {
    "pycharm": {
     "is_executing": false
    }
   },
   "outputs": [
    {
     "name": "stdout",
     "output_type": "stream",
     "text": [
      "Corpus length: 6347703 chars\n",
      "ALLS WELL THAT ENDS WELL\n",
      "\n",
      "by William Shakespeare\n",
      "\n",
      "Dramatis Personae\n",
      "\n",
      "  KING OF FRANCE\n",
      "  THE DUKE OF FLORENCE\n",
      "  BERTRAM, Count of Rousillon\n",
      "  LAFEU, an old lord\n",
      "  PAROLLES, a follower of Bertram\n",
      "  TWO FRENCH LORDS, serving with Bertram\n",
      "\n",
      "  STEWARD, Servant to the Countess of Rousillon\n",
      "  LAVACHE, a clown and Servant to the Countess of Rousillon\n",
      "  A PAGE, Servant to the Countess of Rousillon\n",
      "\n",
      "  COUNTESS OF ROUSILLON, mother to Bertram\n",
      "  HELENA, a gentlewoman protected by the Countess\n",
      "  A WIDOW OF FLORENCE.\n",
      "  DIANA, daughter to the Widow\n",
      "\n",
      "  VIOLENTA, neighbour and friend to the Widow\n",
      "  MARIANA, neighbour and friend to the Widow\n",
      "\n",
      "  Lords, Officers, Soldiers, etc., French and Florentine  \n",
      "\n",
      "SCENE:\n",
      "Rousillon; Paris; Florence; Marseilles\n",
      "\n",
      "ACT I. SCENE 1.\n",
      "Rousillon. The COUNT'S palace\n",
      "\n",
      "Enter BERTRAM, the COUNTESS OF ROUSILLON, HELENA, and LAFEU, all in black\n",
      "\n",
      "  COUNTESS. In delivering my son from me, I bury a second husband.\n",
      "  BERTRAM. And I in going, madam, weep o'er my father's death anew;\n",
      "    but I must attend his Majesty's command, to whom I am now in\n",
      "    ward, evermore in subjection.\n",
      "  LAFEU. You shall find of the King a husband, madam; you, sir, a\n",
      "    father. He that so generally is at all times good must of\n",
      "    \n"
     ]
    }
   ],
   "source": [
    "with open(corpus_path, 'r', encoding='utf-8') as f:\n",
    "    corpus = f.read()\n",
    "\n",
    "print(f'Corpus length: {len(corpus)} chars')\n",
    "print(corpus[7:1234])"
   ]
  },
  {
   "cell_type": "markdown",
   "metadata": {},
   "source": [
    "### Data Preprocessing\n",
    "<a id=part1_3></a>"
   ]
  },
  {
   "cell_type": "markdown",
   "metadata": {},
   "source": [
    "The first thing we'll need is to map from each unique character in the corpus to an index that will represent it in our learning process.\n",
    "\n",
    "**TODO**: Implement the `char_maps()` function in the `hw3/charnn.py` module."
   ]
  },
  {
   "cell_type": "code",
   "execution_count": 5,
   "metadata": {
    "pycharm": {
     "is_executing": false
    }
   },
   "outputs": [
    {
     "name": "stdout",
     "output_type": "stream",
     "text": [
      "{'\\n': 0, ' ': 1, '!': 2, '\"': 3, '$': 4, '&': 5, \"'\": 6, '(': 7, ')': 8, ',': 9, '-': 10, '.': 11, '0': 12, '1': 13, '2': 14, '3': 15, '4': 16, '5': 17, '6': 18, '7': 19, '8': 20, '9': 21, ':': 22, ';': 23, '<': 24, '?': 25, 'A': 26, 'B': 27, 'C': 28, 'D': 29, 'E': 30, 'F': 31, 'G': 32, 'H': 33, 'I': 34, 'J': 35, 'K': 36, 'L': 37, 'M': 38, 'N': 39, 'O': 40, 'P': 41, 'Q': 42, 'R': 43, 'S': 44, 'T': 45, 'U': 46, 'V': 47, 'W': 48, 'X': 49, 'Y': 50, 'Z': 51, '[': 52, ']': 53, '_': 54, 'a': 55, 'b': 56, 'c': 57, 'd': 58, 'e': 59, 'f': 60, 'g': 61, 'h': 62, 'i': 63, 'j': 64, 'k': 65, 'l': 66, 'm': 67, 'n': 68, 'o': 69, 'p': 70, 'q': 71, 'r': 72, 's': 73, 't': 74, 'u': 75, 'v': 76, 'w': 77, 'x': 78, 'y': 79, 'z': 80, '}': 81, '\\ufeff': 82}\n"
     ]
    }
   ],
   "source": [
    "import hw3.charnn as charnn\n",
    "\n",
    "char_to_idx, idx_to_char = charnn.char_maps(corpus)\n",
    "print(char_to_idx)\n",
    "\n",
    "test.assertEqual(len(char_to_idx), len(idx_to_char))\n",
    "test.assertSequenceEqual(list(char_to_idx.keys()), list(idx_to_char.values()))\n",
    "test.assertSequenceEqual(list(char_to_idx.values()), list(idx_to_char.keys()))"
   ]
  },
  {
   "cell_type": "markdown",
   "metadata": {},
   "source": [
    "Seems we have some strange characters in the corpus that are very rare and are probably due to mistakes.\n",
    "To reduce the length of each tensor we'll need to later represent our chars, it's best to remove them.\n",
    "\n",
    "**TODO**: Implement the `remove_chars()` function in the `hw3/charnn.py` module."
   ]
  },
  {
   "cell_type": "code",
   "execution_count": 6,
   "metadata": {
    "pycharm": {
     "is_executing": false
    }
   },
   "outputs": [
    {
     "name": "stdout",
     "output_type": "stream",
     "text": [
      "Removed 34 chars\n"
     ]
    }
   ],
   "source": [
    "corpus, n_removed = charnn.remove_chars(corpus, ['}','$','_','<','\\ufeff'])\n",
    "print(f'Removed {n_removed} chars')\n",
    "\n",
    "# After removing the chars, re-create the mappings\n",
    "char_to_idx, idx_to_char = charnn.char_maps(corpus)"
   ]
  },
  {
   "cell_type": "markdown",
   "metadata": {},
   "source": [
    "The next thing we need is an **embedding** of the chracters.\n",
    "An embedding is a representation of each token from the sequence as a tensor.\n",
    "For a char-level RNN, our tokens will be chars and we can thus use the simplest possible embedding: encode each char as a **one-hot** tensor. In other words, each char will be represented\n",
    "as a tensor whos length is the total number of unique chars (`V`) which contains all zeros except at the index\n",
    "corresponding to that specific char.\n",
    "\n",
    "**TODO**: Implement the functions `chars_to_onehot()` and `onehot_to_chars()` in the `hw3/charnn.py` module."
   ]
  },
  {
   "cell_type": "code",
   "execution_count": 7,
   "metadata": {
    "pycharm": {
     "is_executing": false
    }
   },
   "outputs": [
    {
     "name": "stdout",
     "output_type": "stream",
     "text": [
      "brine a maiden can season her praise in.\n",
      "   \n",
      "tensor([[0, 0, 0, 0, 0, 0, 0, 0, 0, 0, 0, 0, 0, 0, 0, 0, 0, 0, 0, 0, 0, 0, 0, 0,\n",
      "         0, 0, 0, 0, 0, 0, 0, 0, 0, 0, 0, 0, 0, 0, 0, 0, 0, 0, 0, 0, 0, 0, 0, 0,\n",
      "         0, 0, 0, 0, 0, 1, 0, 0, 0, 0, 0, 0, 0, 0, 0, 0, 0, 0, 0, 0, 0, 0, 0, 0,\n",
      "         0, 0, 0, 0, 0, 0],\n",
      "        [0, 0, 0, 0, 0, 0, 0, 0, 0, 0, 0, 0, 0, 0, 0, 0, 0, 0, 0, 0, 0, 0, 0, 0,\n",
      "         0, 0, 0, 0, 0, 0, 0, 0, 0, 0, 0, 0, 0, 0, 0, 0, 0, 0, 0, 0, 0, 0, 0, 0,\n",
      "         0, 0, 0, 0, 0, 0, 0, 0, 0, 0, 0, 0, 0, 0, 0, 0, 0, 0, 0, 0, 0, 1, 0, 0,\n",
      "         0, 0, 0, 0, 0, 0],\n",
      "        [0, 0, 0, 0, 0, 0, 0, 0, 0, 0, 0, 0, 0, 0, 0, 0, 0, 0, 0, 0, 0, 0, 0, 0,\n",
      "         0, 0, 0, 0, 0, 0, 0, 0, 0, 0, 0, 0, 0, 0, 0, 0, 0, 0, 0, 0, 0, 0, 0, 0,\n",
      "         0, 0, 0, 0, 0, 0, 0, 0, 0, 0, 0, 0, 1, 0, 0, 0, 0, 0, 0, 0, 0, 0, 0, 0,\n",
      "         0, 0, 0, 0, 0, 0]], dtype=torch.int8)\n"
     ]
    }
   ],
   "source": [
    "# Wrap the actual embedding functions for calling convenience\n",
    "def embed(text):\n",
    "    return charnn.chars_to_onehot(text, char_to_idx)\n",
    "\n",
    "def unembed(embedding):\n",
    "    return charnn.onehot_to_chars(embedding, idx_to_char)\n",
    "\n",
    "text_snippet = corpus[3104:3148]\n",
    "print(text_snippet)\n",
    "print(embed(text_snippet[0:3]))\n",
    "\n",
    "test.assertEqual(text_snippet, unembed(embed(text_snippet)))\n",
    "test.assertEqual(embed(text_snippet).dtype, torch.int8)"
   ]
  },
  {
   "cell_type": "markdown",
   "metadata": {},
   "source": [
    "### Dataset Creation\n",
    "<a id=part1_4></a>"
   ]
  },
  {
   "cell_type": "markdown",
   "metadata": {},
   "source": [
    "We wish to train our model to generate text by constantly predicting what the next char should be based on the past.\n",
    "To that end we'll need to train our recurrent network in a way similar to a classification task. At each timestep, we input a char and set the expected output (label) to be the next char in the original sequence.\n",
    "\n",
    "We will split our corpus into shorter sequences of length `S` chars (try to think why; see question below).\n",
    "Each **sample** we provide our model with will therefore be a tensor of shape `(S,V)` where `V` is the embedding dimension. Our model will operate sequentially on each char in the sequence.\n",
    "For each sample, we'll also need a **label**. This is simple another sequence, shifted by one char so that the label of each char is the next char in the corpus."
   ]
  },
  {
   "cell_type": "markdown",
   "metadata": {},
   "source": [
    "**TODO**: Implement the `chars_to_labelled_samples()` function in the `hw3/charnn.py` module."
   ]
  },
  {
   "cell_type": "code",
   "execution_count": 8,
   "metadata": {
    "pycharm": {
     "is_executing": false
    }
   },
   "outputs": [
    {
     "name": "stdout",
     "output_type": "stream",
     "text": [
      "samples shape: torch.Size([99182, 64, 78])\n",
      "labels shape: torch.Size([99182, 64])\n"
     ]
    }
   ],
   "source": [
    "# Create dataset of sequences\n",
    "seq_len = 64\n",
    "vocab_len = len(char_to_idx)\n",
    "\n",
    "# Create labelled samples\n",
    "samples, labels = charnn.chars_to_labelled_samples(corpus, char_to_idx, seq_len, device)\n",
    "print(f'samples shape: {samples.shape}')\n",
    "print(f'labels shape: {labels.shape}')\n",
    "\n",
    "# Test shapes\n",
    "num_samples = (len(corpus) - 1) // seq_len\n",
    "test.assertEqual(samples.shape, (num_samples, seq_len, vocab_len))\n",
    "test.assertEqual(labels.shape, (num_samples, seq_len))\n",
    "\n",
    "# Test content\n",
    "for _ in range(1000):\n",
    "    # random sample\n",
    "    i = np.random.randint(num_samples, size=(1,))[0]\n",
    "    # Compare to corpus\n",
    "    test.assertEqual(unembed(samples[i]), corpus[i*seq_len:(i+1)*seq_len], msg=f\"content mismatch in sample {i}\")\n",
    "    # Compare to labels\n",
    "    sample_text = unembed(samples[i])\n",
    "    label_text = str.join('', [idx_to_char[j.item()] for j in labels[i]])\n",
    "    test.assertEqual(sample_text[1:], label_text[0:-1], msg=f\"label mismatch in sample {i}\")"
   ]
  },
  {
   "cell_type": "markdown",
   "metadata": {},
   "source": [
    "Let's print a few consecutive samples. You should see that the text continues between them."
   ]
  },
  {
   "cell_type": "code",
   "execution_count": 9,
   "metadata": {
    "pycharm": {
     "is_executing": false
    }
   },
   "outputs": [
    {
     "name": "stdout",
     "output_type": "stream",
     "text": [
      "sample [34582]:\n",
      "\tlouds of heaven; And with a blessed and unvex'd retire,\n",
      "sample [34583]:\n",
      "\tWith unhack'd swords and helmets all unbruis'd, We will bear\n",
      "sample [34584]:\n",
      "\thome that lusty blood again Which here we came to spout aga\n",
      "sample [34585]:\n",
      "\tinst your town, And leave your children, wives, and you, in\n",
      "sample [34586]:\n",
      "\tpeace. But if you fondly pass our proffer'd offer, 'Tis\n"
     ]
    }
   ],
   "source": [
    "import re\n",
    "import random\n",
    "\n",
    "i = random.randrange(num_samples-5)\n",
    "for i in range(i, i+5):\n",
    "    s = re.sub(r'\\s+', ' ', unembed(samples[i])).strip()\n",
    "    print(f'sample [{i}]:\\n\\t{s}')"
   ]
  },
  {
   "cell_type": "markdown",
   "metadata": {},
   "source": [
    "As usual, instead of feeding one sample at a time into our model's forward we'll work with **batches** of samples. This means that at every timestep, our model will operate on a batch of chars that are from **different sequences**.\n",
    "Effectively this will allow us to parallelize training our model by dong matrix-matrix multiplications\n",
    "instead of matrix-vector during the forward pass."
   ]
  },
  {
   "cell_type": "markdown",
   "metadata": {},
   "source": [
    "An important nuance is that we need the batches to be **contiguous**, i.e. sample $k$ in batch $j$ should continue sample $k$ from batch $j-1$.\n",
    "The following figure illustrates this:\n",
    "\n",
    "<img src=\"imgs/rnn-batching.png\"/>\n",
    "\n",
    "If we naïvely take consecutive samples into batches, e.g. `[0,1,...,B-1]`, `[B,B+1,...,2B-1]` and so on, we won't have contiguous\n",
    "sequences at the same index between adjacent batches.\n",
    "\n",
    "To accomplish this we need to tell our `DataLoader` which samples to combine together into one batch.\n",
    "We do this by implementing a custom PyTorch `Sampler`, and providing it to our `DataLoader`."
   ]
  },
  {
   "cell_type": "markdown",
   "metadata": {},
   "source": [
    "**TODO**: Implement the `SequenceBatchSampler` class in the `hw3/charnn.py` module."
   ]
  },
  {
   "cell_type": "code",
   "execution_count": 10,
   "metadata": {
    "pycharm": {
     "is_executing": false
    }
   },
   "outputs": [
    {
     "name": "stdout",
     "output_type": "stream",
     "text": [
      "sampler_idx =\n",
      " [0, 3, 6, 9, 12, 15, 18, 21, 24, 27, 1, 4, 7, 10, 13, 16, 19, 22, 25, 28, 2, 5, 8, 11, 14, 17, 20, 23, 26, 29]\n"
     ]
    }
   ],
   "source": [
    "from hw3.charnn import SequenceBatchSampler\n",
    "\n",
    "sampler = SequenceBatchSampler(dataset=range(32), batch_size=10)\n",
    "sampler_idx = list(sampler)\n",
    "print('sampler_idx =\\n', sampler_idx)\n",
    "\n",
    "# Test the Sampler\n",
    "test.assertEqual(len(sampler_idx), 30)\n",
    "batch_idx = np.array(sampler_idx).reshape(-1, 10)\n",
    "for k in range(10):\n",
    "    test.assertEqual(np.diff(batch_idx[:, k], n=2).item(), 0)"
   ]
  },
  {
   "cell_type": "markdown",
   "metadata": {},
   "source": [
    "Even though we're working with sequences, we can still use the standard PyTorch `Dataset`/`DataLoader` combo.\n",
    "For the dataset we can use a built-in class, `TensorDataset` to return tuples of `(sample, label)`\n",
    "from the `samples` and `labels` tensors we created above.\n",
    "The `DataLoader` will be provided with our custom `Sampler` so that it generates appropriate batches."
   ]
  },
  {
   "cell_type": "code",
   "execution_count": 11,
   "metadata": {
    "pycharm": {
     "is_executing": false
    }
   },
   "outputs": [],
   "source": [
    "import torch.utils.data\n",
    "\n",
    "# Create DataLoader returning batches of samples.\n",
    "batch_size = 32\n",
    "\n",
    "ds_corpus = torch.utils.data.TensorDataset(samples, labels)\n",
    "sampler_corpus = SequenceBatchSampler(ds_corpus, batch_size)\n",
    "dl_corpus = torch.utils.data.DataLoader(ds_corpus, batch_size=batch_size, sampler=sampler_corpus, shuffle=False)"
   ]
  },
  {
   "cell_type": "markdown",
   "metadata": {},
   "source": [
    "Let's see what that gives us:"
   ]
  },
  {
   "cell_type": "code",
   "execution_count": 12,
   "metadata": {
    "pycharm": {
     "is_executing": false
    }
   },
   "outputs": [
    {
     "name": "stdout",
     "output_type": "stream",
     "text": [
      "num batches: 3100\n",
      "shape of a batch of samples: torch.Size([32, 64, 78])\n",
      "shape of a batch of labels: torch.Size([32, 64])\n"
     ]
    }
   ],
   "source": [
    "print(f'num batches: {len(dl_corpus)}')\n",
    "\n",
    "x0, y0 = next(iter(dl_corpus))\n",
    "print(f'shape of a batch of samples: {x0.shape}')\n",
    "print(f'shape of a batch of labels: {y0.shape}')"
   ]
  },
  {
   "cell_type": "markdown",
   "metadata": {},
   "source": [
    "Now lets look at the same sample index from multiple batches taken from our corpus."
   ]
  },
  {
   "cell_type": "code",
   "execution_count": 13,
   "metadata": {
    "pycharm": {
     "is_executing": false
    }
   },
   "outputs": [
    {
     "name": "stdout",
     "output_type": "stream",
     "text": [
      "=== batch 0, sample 25 (torch.Size([64, 78])): ===\n",
      "\tpound shall serve me for carrying your letter. PROTEUS. Y\n",
      "=== batch 1, sample 25 (torch.Size([64, 78])): ===\n",
      "\tou mistake; I mean the pound- a pinfold. SPEED. From a pound t\n",
      "=== batch 2, sample 25 (torch.Size([64, 78])): ===\n",
      "\to a pin? Fold it over and over, 'Tis threefold too little fo\n",
      "=== batch 3, sample 25 (torch.Size([64, 78])): ===\n",
      "\tr carrying a letter to your lover. PROTEUS. But what said she?\n",
      "=== batch 4, sample 25 (torch.Size([64, 78])): ===\n",
      "\tSPEED. [Nodding] Ay. PROTEUS. Nod- ay. Why, that's 'noddy\n"
     ]
    }
   ],
   "source": [
    "# Check that sentences in in same index of different batches complete each other.\n",
    "k = random.randrange(batch_size)\n",
    "for j, (X, y) in enumerate(dl_corpus,):\n",
    "    print(f'=== batch {j}, sample {k} ({X[k].shape}): ===')\n",
    "    s = re.sub(r'\\s+', ' ', unembed(X[k])).strip()\n",
    "    print(f'\\t{s}')\n",
    "    if j==4: break"
   ]
  },
  {
   "cell_type": "markdown",
   "metadata": {},
   "source": [
    "### Model Implementation\n",
    "<a id=part1_5></a>"
   ]
  },
  {
   "cell_type": "markdown",
   "metadata": {},
   "source": [
    "Finally, our data set is ready so we can focus on our model.\n",
    "\n",
    "We'll implement here is a multilayer gated recurrent unit (GRU) model, with dropout.\n",
    "This model is a type of RNN which performs similar to the well-known LSTM model,\n",
    "but it's somewhat easier to train because it has less parameters.\n",
    "We'll modify the regular GRU slightly by applying dropout to\n",
    "the hidden states passed between layers of the model.\n",
    "\n",
    "The model accepts an input $\\mat{X}\\in\\set{R}^{S\\times V}$ containing a sequence of embedded chars.\n",
    "It returns an output $\\mat{Y}\\in\\set{R}^{S\\times V}$ of predictions for the next char and the final hidden state\n",
    "$\\mat{H}\\in\\set{R}^{L\\times H}$. Here $S$ is the sequence length, $V$ is the vocabulary size (number of unique chars), $L$ is the number of layers in the model and $H$ is the hidden dimension."
   ]
  },
  {
   "cell_type": "markdown",
   "metadata": {},
   "source": [
    "Mathematically, the model's forward function at layer $k\\in[1,L]$ and timestep $t\\in[1,S]$ can be described as\n",
    "\n",
    "$$\n",
    "\\begin{align}\n",
    "\\vec{z_t}^{[k]} &= \\sigma\\left(\\vec{x}^{[k]}_t {\\mattr{W}_{\\mathrm{xz}}}^{[k]} +\n",
    "    \\vec{h}_{t-1}^{[k]} {\\mattr{W}_{\\mathrm{hz}}}^{[k]} + \\vec{b}_{\\mathrm{z}}^{[k]}\\right) \\\\\n",
    "\\vec{r_t}^{[k]} &= \\sigma\\left(\\vec{x}^{[k]}_t {\\mattr{W}_{\\mathrm{xr}}}^{[k]} +\n",
    "    \\vec{h}_{t-1}^{[k]} {\\mattr{W}_{\\mathrm{hr}}}^{[k]} + \\vec{b}_{\\mathrm{r}}^{[k]}\\right) \\\\\n",
    "\\vec{g_t}^{[k]} &= \\tanh\\left(\\vec{x}^{[k]}_t {\\mattr{W}_{\\mathrm{xg}}}^{[k]} +\n",
    "    (\\vec{r_t}^{[k]}\\odot\\vec{h}_{t-1}^{[k]}) {\\mattr{W}_{\\mathrm{hg}}}^{[k]} + \\vec{b}_{\\mathrm{g}}^{[k]}\\right) \\\\\n",
    "\\vec{h_t}^{[k]} &= \\vec{z}^{[k]}_t \\odot \\vec{h}^{[k]}_{t-1} + \\left(1-\\vec{z}^{[k]}_t\\right)\\odot \\vec{g_t}^{[k]}\n",
    "\\end{align}\n",
    "$$"
   ]
  },
  {
   "cell_type": "markdown",
   "metadata": {},
   "source": [
    "The input to each layer is,\n",
    "$$\n",
    "\\mat{X}^{[k]} =\n",
    "\\begin{bmatrix}\n",
    "    {\\vec{x}_1}^{[k]} \\\\ \\vdots \\\\ {\\vec{x}_S}^{[k]}\n",
    "\\end{bmatrix} \n",
    "=\n",
    "\\begin{cases}\n",
    "    \\mat{X} & \\mathrm{if} ~k = 1~ \\\\\n",
    "    \\mathrm{dropout}_p \\left(\n",
    "    \\begin{bmatrix}\n",
    "        {\\vec{h}_1}^{[k-1]} \\\\ \\vdots \\\\ {\\vec{h}_S}^{[k-1]}\n",
    "    \\end{bmatrix} \\right) & \\mathrm{if} ~1 < k \\leq L+1~\n",
    "\\end{cases}.\n",
    "$$"
   ]
  },
  {
   "cell_type": "markdown",
   "metadata": {},
   "source": [
    "The output of the entire model is then,\n",
    "$$\n",
    "\\mat{Y} = \\mat{X}^{[L+1]} {\\mattr{W}_{\\mathrm{hy}}} + \\mat{B}_{\\mathrm{y}}\n",
    "$$"
   ]
  },
  {
   "cell_type": "markdown",
   "metadata": {},
   "source": [
    "and the final hidden state is\n",
    "$$\n",
    "\\mat{H} = \n",
    "\\begin{bmatrix}\n",
    "    {\\vec{h}_S}^{[1]} \\\\ \\vdots \\\\ {\\vec{h}_S}^{[L]}\n",
    "\\end{bmatrix}.\n",
    "$$"
   ]
  },
  {
   "cell_type": "markdown",
   "metadata": {},
   "source": [
    "Notes:\n",
    "- $t\\in[1,S]$ is the timestep, i.e. the current position within the sequence of each sample.\n",
    "- $\\vec{x}_t^{[k]}$ is the input of layer $k$ at timestep $t$, respectively.\n",
    "- The outputs of the **last layer** $\\vec{y}_t^{[L]}$, are the predicted next characters for every input char.\n",
    "  These are similar to class scores in classification tasks.\n",
    "- The hidden states at the **last timestep**, $\\vec{h}_S^{[k]}$, are the final hidden state returned from the model.\n",
    "- $\\sigma(\\cdot)$ is the sigmoid function, i.e. $\\sigma(\\vec{z}) = 1/(1+e^{-\\vec{z}})$ which returns values in $(0,1)$.\n",
    "- $\\tanh(\\cdot)$ is the hyperbolic tangent, i.e. $\\tanh(\\vec{z}) = (e^{2\\vec{z}}-1)/(e^{2\\vec{z}}+1)$ which returns values in $(-1,1)$.\n",
    "- $\\vec{h_t}^{[k]}$ is the hidden state of layer $k$ at time $t$. This can be thought of as the memory of that layer.\n",
    "- $\\vec{g_t}^{[k]}$ is the candidate hidden state for time $t+1$.\n",
    "- $\\vec{z_t}^{[k]}$ is known as the update gate. It combines the previous state with the input to determine how much the current state will be combined with the new candidate state. For example, if $\\vec{z_t}^{[k]}=\\vec{1}$ then the current input has no effect on the output.\n",
    "- $\\vec{r_t}^{[k]}$ is known as the reset gate. It combines the previous state with the input to determine how much of the previous state will affect the current state candidate. For example if $\\vec{r_t}^{[k]}=\\vec{0}$ the previous state has no effect on the current candidate state."
   ]
  },
  {
   "cell_type": "markdown",
   "metadata": {},
   "source": [
    "Here's a graphical representation of the GRU's forward pass at each timestep. The $\\vec{\\tilde{h}}$ in the image is our $\\vec{g}$ (candidate next state).\n",
    "\n",
    "<img src=\"imgs/gru_cell.png\" width=\"400\"/>\n",
    "\n",
    "You can see how the reset and update gates allow the model to completely ignore it's previous state, completely ignore it's input, or any mixture of those states (since the gates are actually continuous and between $(0,1)$)."
   ]
  },
  {
   "cell_type": "markdown",
   "metadata": {},
   "source": [
    "Here's a graphical representation of the entire model.\n",
    "You can ignore the $c_t^{[k]}$ (cell state) variables (which are relevant for LSTM models).\n",
    "Our model has only the hidden state, $h_t^{[k]}$. Also notice that we added dropout between layers (i.e., on the up arrows).\n",
    "\n",
    "<img src=\"imgs/lstm_model.png\" />\n",
    "\n",
    "The purple tensors are inputs (a sequence and initial hidden state per layer), and the green tensors are outputs (another sequence and final hidden state per layer). Each blue block implements the above forward equations.\n",
    "Blocks that are on the same vertical level are at the same layer, and therefore share parameters."
   ]
  },
  {
   "cell_type": "markdown",
   "metadata": {},
   "source": [
    "**TODO**: Implement the `MultilayerGRU` class in the `hw3/charnn.py` module.\n",
    "\n",
    "Notes:\n",
    "- You'll need to handle input **batches** now.\n",
    "  The math is identical to the above, but all the tensors will have an extra batch\n",
    "  dimension as their first dimension.\n",
    "- Use the diagram above to help guide your implementation.\n",
    "  It will help you visualize what shapes to returns where, etc.\n"
   ]
  },
  {
   "cell_type": "code",
   "execution_count": 14,
   "metadata": {
    "pycharm": {
     "is_executing": false
    }
   },
   "outputs": [
    {
     "name": "stdout",
     "output_type": "stream",
     "text": [
      "MultilayerGRU(\n",
      "  (xz0): Linear(in_features=78, out_features=256, bias=False)\n",
      "  (hz0): Linear(in_features=256, out_features=256, bias=True)\n",
      "  (xr0): Linear(in_features=78, out_features=256, bias=False)\n",
      "  (hr0): Linear(in_features=256, out_features=256, bias=True)\n",
      "  (xg0): Linear(in_features=78, out_features=256, bias=False)\n",
      "  (hg0): Linear(in_features=256, out_features=256, bias=True)\n",
      "  (xz1): Linear(in_features=256, out_features=256, bias=False)\n",
      "  (hz1): Linear(in_features=256, out_features=256, bias=True)\n",
      "  (xr1): Linear(in_features=256, out_features=256, bias=False)\n",
      "  (hr1): Linear(in_features=256, out_features=256, bias=True)\n",
      "  (xg1): Linear(in_features=256, out_features=256, bias=False)\n",
      "  (hg1): Linear(in_features=256, out_features=256, bias=True)\n",
      "  (xz2): Linear(in_features=256, out_features=256, bias=False)\n",
      "  (hz2): Linear(in_features=256, out_features=256, bias=True)\n",
      "  (xr2): Linear(in_features=256, out_features=256, bias=False)\n",
      "  (hr2): Linear(in_features=256, out_features=256, bias=True)\n",
      "  (xg2): Linear(in_features=256, out_features=256, bias=False)\n",
      "  (hg2): Linear(in_features=256, out_features=256, bias=True)\n",
      "  (hy3): Linear(in_features=256, out_features=78, bias=True)\n",
      ")\n",
      "y.shape=torch.Size([32, 64, 78])\n",
      "h.shape=torch.Size([32, 3, 256])\n"
     ]
    }
   ],
   "source": [
    "in_dim = vocab_len\n",
    "h_dim = 256\n",
    "n_layers = 3\n",
    "model = charnn.MultilayerGRU(in_dim, h_dim, out_dim=in_dim, n_layers=n_layers)\n",
    "model = model.to(device)\n",
    "print(model)\n",
    "\n",
    "# Test forward pass\n",
    "y, h = model(x0.to(dtype=torch.float))\n",
    "print(f'y.shape={y.shape}')\n",
    "print(f'h.shape={h.shape}')\n",
    "\n",
    "test.assertEqual(y.shape, (batch_size, seq_len, vocab_len))\n",
    "test.assertEqual(h.shape, (batch_size, n_layers, h_dim))\n",
    "test.assertEqual(len(list(model.parameters())), 9 * n_layers + 2) "
   ]
  },
  {
   "cell_type": "markdown",
   "metadata": {},
   "source": [
    "### Generating text by sampling\n",
    "<a id=part1_6></a>"
   ]
  },
  {
   "cell_type": "markdown",
   "metadata": {},
   "source": [
    "Now that we have a model, we can implement **text generation** based on it.\n",
    "The idea is simple:\n",
    "At each timestep our model receives one char $x_t$ from the input sequence and outputs scores $y_t$\n",
    "for what the next char should be.\n",
    "We'll convert these scores into a probability over each of the possible chars.\n",
    "In other words, for each input char $x_t$ we create a probability distribution for the next char\n",
    "conditioned on the current one and the state of the model (representing all previous inputs):\n",
    "$$p(x_{t+1}|x_t, \\vec{h}_t).$$\n",
    "\n",
    "Once we have such a distribution, we'll sample a char from it.\n",
    "This will be the first char of our generated sequence.\n",
    "Now we can feed this new char into the model, create another distribution, sample the next char and so on.\n",
    "Note that it's crucial to propagate the hidden state when sampling."
   ]
  },
  {
   "cell_type": "markdown",
   "metadata": {},
   "source": [
    "The important point however is how to create the distribution from the scores.\n",
    "One way, as we saw in previous ML tasks, is to use the softmax function.\n",
    "However, a drawback of softmax is that it can generate very diffuse (more uniform) distributions if the score values are very similar. When sampling, we would prefer to control the distributions and make them less uniform to increase the chance of sampling the char(s) with the highest scores compared to the others.\n",
    "\n",
    "To control the variance of the distribution, a common trick is to add a hyperparameter $T$, known as the \n",
    "*temperature* to the softmax function. The class scores are simply scaled by $T$ before softmax is applied:\n",
    "$$\n",
    "\\mathrm{softmax}_T(\\vec{y}) = \\frac{e^{\\vec{y}/T}}{\\sum_k e^{y_k/T}}\n",
    "$$\n",
    "\n",
    "A low $T$ will result in less uniform distributions and vice-versa."
   ]
  },
  {
   "cell_type": "markdown",
   "metadata": {},
   "source": [
    "**TODO**: Implement the `hot_softmax()` function in the `hw3/charnn.py` module."
   ]
  },
  {
   "cell_type": "code",
   "execution_count": 15,
   "metadata": {
    "pycharm": {
     "is_executing": false
    }
   },
   "outputs": [
    {
     "data": {
      "image/png": "[encoded data removed]",
      "text/plain": [
       "<Figure size 1080x360 with 1 Axes>"
      ]
     },
     "metadata": {
      "needs_background": "light"
     },
     "output_type": "display_data"
    }
   ],
   "source": [
    "scores = y[0,0,:].detach()\n",
    "_, ax = plt.subplots(figsize=(15,5))\n",
    "\n",
    "for t in reversed([0.3, 0.5, 1.0, 100]):\n",
    "    ax.plot(charnn.hot_softmax(scores, temperature=t).cpu().numpy(), label=f'T={t}')\n",
    "ax.set_xlabel('$x_{t+1}$')\n",
    "ax.set_ylabel('$p(x_{t+1}|x_t)$')\n",
    "ax.legend()\n",
    "\n",
    "uniform_proba = 1/len(char_to_idx)\n",
    "uniform_diff = torch.abs(charnn.hot_softmax(scores, temperature=100) - uniform_proba)\n",
    "test.assertTrue(torch.all(uniform_diff < 1e-4))"
   ]
  },
  {
   "cell_type": "markdown",
   "metadata": {},
   "source": [
    "**TODO**: Implement the `generate_from_model()` function in the `hw3/charnn.py` module."
   ]
  },
  {
   "cell_type": "code",
   "execution_count": 16,
   "metadata": {
    "pycharm": {
     "is_executing": false
    }
   },
   "outputs": [
    {
     "name": "stdout",
     "output_type": "stream",
     "text": [
      "foobarTlh7]a6J5nmYY:?;W0'mC-CbCNp;mC Y-F1Jvw,eFXyh\n",
      "foobarjs;xew5arwH7VrbvKXiBXQ6:,R2C:4TkOulUSThyJwn'\n",
      "foobara5ey9:i)vtLq;ZpklF7ltW!:t:&gEi&wsMiI\"lG[Vz0T\n"
     ]
    }
   ],
   "source": [
    "for _ in range(3):\n",
    "    text = charnn.generate_from_model(model, \"foobar\", 50, (char_to_idx, idx_to_char), T=0.5)\n",
    "    print(text)\n",
    "    test.assertEqual(len(text), 50)"
   ]
  },
  {
   "cell_type": "markdown",
   "metadata": {},
   "source": [
    "### Training\n",
    "<a id=part1_7></a>"
   ]
  },
  {
   "cell_type": "markdown",
   "metadata": {},
   "source": [
    "To train this model, we'll calculate the loss at each time step by comparing the predicted char to\n",
    "the actual char from our label. We can use cross entropy since per char it's similar to a classification problem.\n",
    "We'll then sum the losses over the sequence and back-propagate the gradients though time.\n",
    "Notice that the back-propagation algorithm will \"visit\" each layer's parameter tensors multiple times,\n",
    "so we'll accumulate gradients in parameters of the blocks. Luckily `autograd` will handle this part for us."
   ]
  },
  {
   "cell_type": "markdown",
   "metadata": {},
   "source": [
    "As usual, the first step of training will be to try and **overfit** a large model (many parameters) to a tiny dataset.\n",
    "Again, this is to ensure the model and training code are implemented correctly, i.e. that the model can learn.\n",
    "\n",
    "For a generative model such as this, overfitting is slightly trickier than for for classification.\n",
    "What we'll aim to do is to get our model to **memorize** a specific sequence of chars, so that when given the first\n",
    "char in the sequence it will immediately spit out the rest of the sequence verbatim.\n",
    "\n",
    "Let's create a tiny dataset to memorize."
   ]
  },
  {
   "cell_type": "code",
   "execution_count": 17,
   "metadata": {
    "pycharm": {
     "is_executing": false
    }
   },
   "outputs": [
    {
     "name": "stdout",
     "output_type": "stream",
     "text": [
      "Text to \"memorize\":\n",
      "\n",
      "TRAM. What would you have?\n",
      "  HELENA. Something; and scarce so much; nothing, indeed.\n",
      "    I would not tell you what I would, my lord.\n",
      "    Faith, yes:\n",
      "    Strangers and foes do sunder and not kiss.\n",
      "  BERTRAM. I pray you, stay not, but in haste to horse.\n",
      "  HE\n"
     ]
    }
   ],
   "source": [
    "# Pick a tiny subset of the dataset\n",
    "subset_start, subset_end = 1001, 1005\n",
    "ds_corpus_ss = torch.utils.data.Subset(ds_corpus, range(subset_start, subset_end))\n",
    "batch_size_ss = 1\n",
    "sampler_ss = SequenceBatchSampler(ds_corpus_ss, batch_size=batch_size_ss)\n",
    "dl_corpus_ss = torch.utils.data.DataLoader(ds_corpus_ss, batch_size_ss, sampler=sampler_ss, shuffle=False)\n",
    "\n",
    "# Convert subset to text\n",
    "subset_text = ''\n",
    "for i in range(subset_end - subset_start):\n",
    "    subset_text += unembed(ds_corpus_ss[i][0])\n",
    "print(f'Text to \"memorize\":\\n\\n{subset_text}')"
   ]
  },
  {
   "cell_type": "markdown",
   "metadata": {},
   "source": [
    "Now let's implement the first part of our training code.\n",
    "\n",
    "**TODO**: Implement the `train_epoch()` and `train_batch()` methods of the `RNNTrainer` class in the `hw3/training.py` module. \n",
    "You must think about how to correctly handle the hidden state of the model between batches and epochs for this specific task (i.e. text generation)."
   ]
  },
  {
   "cell_type": "code",
   "execution_count": 20,
   "metadata": {
    "pycharm": {
     "is_executing": false
    }
   },
   "outputs": [
    {
     "name": "stdout",
     "output_type": "stream",
     "text": [
      "\n",
      "Epoch #1: Avg. loss = 3.940, Accuracy = 17.58%\n",
      "Tit                                                                                                                                                                                                                                                             \n",
      "\n",
      "Epoch #25: Avg. loss = 0.271, Accuracy = 96.09%\n",
      "TRAM. What would you have?\n",
      "  HELENA. Something; and scarce so much; nothing, indeed.\n",
      "    I would not teld and not kiss.\n",
      "  BERTRAM. I pray you, stay not, but in haste to horse.\n",
      "  HELERAM. I pray you, stay not, but in haste to horse.\n",
      "  HELERAM. I pray you, s\n",
      "\n",
      "Epoch #50: Avg. loss = 0.008, Accuracy = 100.00%\n",
      "TRAM. What would you have?\n",
      "  HELENA. Something; and scarce so much; nothing, indeed.\n",
      "    I would not tell you what I would, my lord.\n",
      "    Faith, yes:\n",
      "    Strangers and foes do sunder and not kiss.\n",
      "  BERTRAM. I pray you, stay not, but in haste to horse.\n",
      "  HE\n"
     ]
    }
   ],
   "source": [
    "import torch.nn as nn\n",
    "import torch.optim as optim\n",
    "from hw3.training import RNNTrainer\n",
    "\n",
    "torch.manual_seed(42)\n",
    "\n",
    "lr = 0.01\n",
    "num_epochs = 500\n",
    "\n",
    "in_dim = vocab_len\n",
    "h_dim = 128\n",
    "n_layers = 2\n",
    "loss_fn = nn.CrossEntropyLoss()\n",
    "model = charnn.MultilayerGRU(in_dim, h_dim, out_dim=in_dim, n_layers=n_layers).to(device)\n",
    "optimizer = optim.Adam(model.parameters(), lr=lr)\n",
    "trainer = RNNTrainer(model, loss_fn, optimizer, device)\n",
    "\n",
    "for epoch in range(num_epochs):\n",
    "    epoch_result = trainer.train_epoch(dl_corpus_ss, verbose=False)\n",
    "    \n",
    "    # Every X epochs, we'll generate a sequence starting from the first char in the first sequence\n",
    "    # to visualize how/if/what the model is learning.\n",
    "    if epoch == 0 or (epoch+1) % 25 == 0:\n",
    "        avg_loss = np.mean(epoch_result.losses)\n",
    "        accuracy = np.mean(epoch_result.accuracy)\n",
    "        print(f'\\nEpoch #{epoch+1}: Avg. loss = {avg_loss:.3f}, Accuracy = {accuracy:.2f}%')\n",
    "        \n",
    "        generated_sequence = charnn.generate_from_model(model, subset_text[0],\n",
    "                                                        seq_len*(subset_end-subset_start),\n",
    "                                                        (char_to_idx,idx_to_char), T=0.1)\n",
    "        \n",
    "        # Stop if we've successfully memorized the small dataset.\n",
    "        print(generated_sequence)\n",
    "        if generated_sequence == subset_text:\n",
    "            break\n",
    "\n",
    "# Test successful overfitting\n",
    "test.assertGreater(epoch_result.accuracy, 99)\n",
    "test.assertEqual(generated_sequence, subset_text)"
   ]
  },
  {
   "cell_type": "markdown",
   "metadata": {},
   "source": [
    "OK, so training works - we can memorize a short sequence.\n",
    "We'll now train a much larger model on our large dataset. You'll need a GPU for this part.\n",
    "\n",
    "First, lets set up our dataset and models for training.\n",
    "We'll split our corpus into 90% train and 10% test-set.\n",
    "Also, we'll use a learning-rate scheduler to control the learning rate during training."
   ]
  },
  {
   "cell_type": "markdown",
   "metadata": {},
   "source": [
    "**TODO**: Set the hyperparameters in the `part1_rnn_hyperparams()` function of the `hw3/answers.py` module."
   ]
  },
  {
   "cell_type": "code",
   "execution_count": 21,
   "metadata": {
    "pycharm": {
     "is_executing": false
    }
   },
   "outputs": [
    {
     "name": "stdout",
     "output_type": "stream",
     "text": [
      "hyperparams:\n",
      " {'batch_size': 256, 'seq_len': 64, 'h_dim': 512, 'n_layers': 3, 'dropout': 0.5, 'learn_rate': 0.001, 'lr_sched_factor': 0.5, 'lr_sched_patience': 2}\n",
      "Train: 348 batches, 5701632 chars\n",
      "Test:   38 batches,  622592 chars\n"
     ]
    }
   ],
   "source": [
    "from hw3.answers import part1_rnn_hyperparams\n",
    "\n",
    "hp = part1_rnn_hyperparams()\n",
    "print('hyperparams:\\n', hp)\n",
    "\n",
    "### Dataset definition\n",
    "vocab_len = len(char_to_idx)\n",
    "batch_size = hp['batch_size']\n",
    "seq_len = hp['seq_len']\n",
    "train_test_ratio = 0.9\n",
    "num_samples = (len(corpus) - 1) // seq_len\n",
    "num_train = int(train_test_ratio * num_samples)\n",
    "\n",
    "samples, labels = charnn.chars_to_labelled_samples(corpus, char_to_idx, seq_len, device)\n",
    "\n",
    "ds_train = torch.utils.data.TensorDataset(samples[:num_train], labels[:num_train])\n",
    "sampler_train = SequenceBatchSampler(ds_train, batch_size)\n",
    "dl_train = torch.utils.data.DataLoader(ds_train, batch_size, shuffle=False, sampler=sampler_train, drop_last=True)\n",
    "\n",
    "ds_test = torch.utils.data.TensorDataset(samples[num_train:], labels[num_train:])\n",
    "sampler_test = SequenceBatchSampler(ds_test, batch_size)\n",
    "dl_test = torch.utils.data.DataLoader(ds_test, batch_size, shuffle=False, sampler=sampler_test, drop_last=True)\n",
    "\n",
    "print(f'Train: {len(dl_train):3d} batches, {len(dl_train)*batch_size*seq_len:7d} chars')\n",
    "print(f'Test:  {len(dl_test):3d} batches, {len(dl_test)*batch_size*seq_len:7d} chars')\n",
    "\n",
    "### Training definition\n",
    "in_dim = out_dim = vocab_len\n",
    "checkpoint_file = 'checkpoints/rnn'\n",
    "num_epochs = 50\n",
    "early_stopping = 5\n",
    "\n",
    "model = charnn.MultilayerGRU(in_dim, hp['h_dim'], out_dim, hp['n_layers'], hp['dropout'])\n",
    "loss_fn = nn.CrossEntropyLoss()\n",
    "optimizer = optim.Adam(model.parameters(), lr=hp['learn_rate'])\n",
    "scheduler = optim.lr_scheduler.ReduceLROnPlateau(\n",
    "    optimizer, mode='max', factor=hp['lr_sched_factor'], patience=hp['lr_sched_patience'], verbose=True\n",
    ")\n",
    "trainer = RNNTrainer(model, loss_fn, optimizer, device)"
   ]
  },
  {
   "cell_type": "markdown",
   "metadata": {},
   "source": [
    "The code blocks below will train the model and save checkpoints containing the training state and the best model parameters to a file. This allows you to stop training and resume it later from where you left.\n",
    "\n",
    "Note that you can use the `main.py` script provided within the assignment folder to run this notebook from the command line as if it were a python script by using the `run-nb` subcommand. This allows you to train your model using this notebook without starting jupyter. You can combine this with `srun` or `sbatch` to run the notebook with a GPU on the course servers."
   ]
  },
  {
   "cell_type": "markdown",
   "metadata": {},
   "source": [
    "**TODO**:\n",
    "- Implement the `fit()` method of the `Trainer` class. You can reuse the relevant implementation parts from HW2, but make sure to implement early stopping and checkpoints.\n",
    "- Implement the `test_epoch()` and `test_batch()` methods of the `RNNTrainer` class in the `hw3/training.py` module.\n",
    "- Run the following block to train.\n",
    "- When training is done and you're satisfied with the model's outputs, rename the checkpoint file to `checkpoints/rnn_final.pt`.\n",
    "  This will cause the block to skip training and instead load your saved model when running the homework submission script.\n",
    "  Note that your submission zip file will not include the checkpoint file. This is OK."
   ]
  },
  {
   "cell_type": "code",
   "execution_count": 22,
   "metadata": {
    "pycharm": {
     "is_executing": false
    }
   },
   "outputs": [
    {
     "name": "stdout",
     "output_type": "stream",
     "text": [
      "ACT I.TI6mFS.c-2C!yIml:f,cY-6XbA5\n",
      "7Ia\"!2vIt3eq&VlW32GTcPp1&tG7GFy[yDy8'8u!UM;dt2:4 fHwmag q:eP:yv1jF\n",
      "--- EPOCH 1/50 ---\n",
      "train_batch (Avg. Loss 2.166, Accuracy 40.0): 100%|██████████| 348/348 [01:52<00:00,  3.09it/s]\n",
      "test_batch (Avg. Loss 1.823, Accuracy 45.4): 100%|██████████| 38/38 [00:04<00:00,  8.21it/s]\n",
      "ACT I. I have a counted\n",
      "    And and the seak would\n",
      "    If the paty,\n",
      "    He would the would\n",
      "    The r\n",
      "--- EPOCH 2/50 ---\n",
      "train_batch (Avg. Loss 1.616, Accuracy 52.3): 100%|██████████| 348/348 [01:53<00:00,  3.08it/s]\n",
      "test_batch (Avg. Loss 1.568, Accuracy 52.2): 100%|██████████| 38/38 [00:04<00:00,  7.74it/s]\n",
      "ACT I.\n",
      "  SERIVA. What my soul.\n",
      "  CLAWEN. But that the stood\n",
      "                                        \n",
      "--- EPOCH 3/50 ---\n",
      "train_batch (Avg. Loss 1.474, Accuracy 56.1): 100%|██████████| 348/348 [01:52<00:00,  3.09it/s]\n",
      "test_batch (Avg. Loss 1.465, Accuracy 55.0): 100%|██████████| 38/38 [00:04<00:00,  8.10it/s]\n",
      "ACT I. NORDERS\n",
      "\n",
      "  FIRST MORTES.\n",
      "  CLOWN, and I were\n",
      "  SECOND OF YORK,\n",
      "                        Exit S\n",
      "--- EPOCH 4/50 ---\n",
      "train_batch (Avg. Loss 1.400, Accuracy 58.1): 100%|██████████| 348/348 [01:52<00:00,  3.10it/s]\n",
      "test_batch (Avg. Loss 1.416, Accuracy 56.4): 100%|██████████| 38/38 [00:04<00:00,  8.21it/s]\n",
      "ACT I.\n",
      "  SECOND OF YORK\n",
      "\n",
      "                    Exit\n",
      "  PALOTES and SERVARD\n",
      "\n",
      "  MARCIS and MARGARES\n",
      "\n",
      "  AN\n",
      "--- EPOCH 5/50 ---\n",
      "train_batch (Avg. Loss 1.352, Accuracy 59.3): 100%|██████████| 348/348 [01:52<00:00,  3.09it/s]\n",
      "test_batch (Avg. Loss 1.374, Accuracy 57.4): 100%|██████████| 38/38 [00:04<00:00,  8.16it/s]\n",
      "ACT I.\n",
      "  MACBETH. So your blood\n",
      "                       \"               \"                            \n",
      "--- EPOCH 6/50 ---\n",
      "train_batch (Avg. Loss 1.318, Accuracy 60.2): 100%|██████████| 348/348 [01:56<00:00,  2.99it/s]\n",
      "test_batch (Avg. Loss 1.343, Accuracy 58.1): 100%|██████████| 38/38 [00:04<00:00,  8.20it/s]\n",
      "ACT I.\n",
      "  PANDARUS and CHIRF STIFOUS\n",
      "\n",
      "                              Exit\n",
      "  COUNTERS\n",
      "  SECOND and ENOF\n",
      "--- EPOCH 7/50 ---\n",
      "train_batch (Avg. Loss 1.293, Accuracy 60.8): 100%|██████████| 348/348 [01:52<00:00,  3.11it/s]\n",
      "test_batch (Avg. Loss 1.327, Accuracy 58.6): 100%|██████████| 38/38 [00:04<00:00,  8.20it/s]\n",
      "ACT I.\n",
      "  HERMER. O, when he?\n",
      "  LORDS. Will and Compuns\n",
      "                   Exit\n",
      "  KING HENRY and Engl\n",
      "--- EPOCH 8/50 ---\n",
      "train_batch (Avg. Loss 1.274, Accuracy 61.3): 100%|██████████| 348/348 [01:54<00:00,  3.04it/s]\n",
      "test_batch (Avg. Loss 1.315, Accuracy 58.9): 100%|██████████| 38/38 [00:04<00:00,  8.17it/s]\n",
      "ACT I.  \n",
      "  VOLUMNT, and the Comping\n",
      "  ALANCO\n",
      "  KING HENRY and SINGAR\n",
      "\n",
      "  DUKE OF SUFFOLD\n",
      "            \n",
      "--- EPOCH 9/50 ---\n",
      "train_batch (Avg. Loss 1.258, Accuracy 61.7): 100%|██████████| 348/348 [01:53<00:00,  3.07it/s]\n",
      "test_batch (Avg. Loss 1.299, Accuracy 59.3): 100%|██████████| 38/38 [00:04<00:00,  8.27it/s]\n",
      "ACT I.\n",
      "  SECOND and CLEOPA\n",
      "  ANTONY and CLIFFORD\n",
      "                              Exit SERVANt\n",
      "        \n",
      "--- EPOCH 10/50 ---\n",
      "train_batch (Avg. Loss 1.244, Accuracy 62.0): 100%|██████████| 348/348 [01:53<00:00,  3.06it/s]\n",
      "test_batch (Avg. Loss 1.287, Accuracy 59.5): 100%|██████████| 38/38 [00:04<00:00,  7.74it/s]\n",
      "ACT I.\n",
      "  WARWIRE of BRUKE\n",
      "\n",
      "           ENTEN\n",
      "\n",
      "  MARGARES that was a man\n",
      "  For a despit. The\n",
      "         \n",
      "--- EPOCH 11/50 ---\n",
      "train_batch (Avg. Loss 1.233, Accuracy 62.3): 100%|██████████| 348/348 [01:53<00:00,  3.07it/s]\n",
      "test_batch (Avg. Loss 1.280, Accuracy 59.7): 100%|██████████| 38/38 [00:04<00:00,  7.78it/s]\n",
      "ACT I.\n",
      "  Prince, and at and  \n",
      "                            Exit\n",
      "\n",
      "              Enter \n",
      "               \n",
      "--- EPOCH 12/50 ---\n",
      "train_batch (Avg. Loss 1.223, Accuracy 62.6): 100%|██████████| 348/348 [01:53<00:00,  3.06it/s]\n",
      "test_batch (Avg. Loss 1.272, Accuracy 59.9): 100%|██████████| 38/38 [00:04<00:00,  8.16it/s]\n",
      "ACT I.\n",
      "  ARMADORCS\n",
      "\n",
      "  MOTH and GRATIANT\n",
      "\n",
      "  WILLIA a with\n",
      "                           Exit\n",
      "\n",
      "          \n",
      "--- EPOCH 13/50 ---\n",
      "train_batch (Avg. Loss 1.214, Accuracy 62.8): 100%|██████████| 348/348 [01:53<00:00,  3.07it/s]\n",
      "test_batch (Avg. Loss 1.264, Accuracy 60.1): 100%|██████████| 38/38 [00:04<00:00,  7.91it/s]\n",
      "ACT I.\n",
      "  I knowing.\n",
      "  And the sense,\n",
      "  Willia ready.\n",
      "  Benedic EdmURI\n",
      "\n",
      "  LORD SERVANt\n",
      "\n",
      "          REI\n",
      "--- EPOCH 14/50 ---\n",
      "train_batch (Avg. Loss 1.207, Accuracy 63.0): 100%|██████████| 348/348 [01:51<00:00,  3.13it/s]\n",
      "test_batch (Avg. Loss 1.258, Accuracy 60.2): 100%|██████████| 38/38 [00:04<00:00,  8.38it/s]\n",
      "ACT I. I\n",
      "  For the can be\n",
      "                       Exit\n",
      "\n",
      "SCENE t.\n",
      "\n",
      "Enter Tomeness\n",
      "                  Ex\n",
      "--- EPOCH 15/50 ---\n",
      "train_batch (Avg. Loss 1.200, Accuracy 63.2): 100%|██████████| 348/348 [01:51<00:00,  3.11it/s]\n",
      "test_batch (Avg. Loss 1.251, Accuracy 60.4): 100%|██████████| 38/38 [00:04<00:00,  8.02it/s]\n",
      "ACT I.\n",
      "  Gonering,\n",
      "                            Exit\n",
      "\n",
      "Scene.\n",
      "\n",
      "Enter thanks.\n",
      "\n",
      "           Enter \n",
      "\n",
      "  THE\n",
      "--- EPOCH 16/50 ---\n",
      "train_batch (Avg. Loss 1.194, Accuracy 63.3): 100%|██████████| 348/348 [01:53<00:00,  3.08it/s]\n",
      "test_batch (Avg. Loss 1.247, Accuracy 60.5): 100%|██████████| 38/38 [00:04<00:00,  8.22it/s]\n",
      "ACT I.\n",
      "  MARCHS a tHERS a,\n",
      "                            Exit\n",
      "  CORIOLA and ANDOND\n",
      "  ANTONIS and at an\n",
      "--- EPOCH 17/50 ---\n",
      "train_batch (Avg. Loss 1.189, Accuracy 63.5): 100%|██████████| 348/348 [01:52<00:00,  3.09it/s]\n",
      "test_batch (Avg. Loss 1.242, Accuracy 60.7): 100%|██████████| 38/38 [00:04<00:00,  7.63it/s]\n",
      "ACT I.\n",
      "  ANTONY and TREMONS\n",
      "\n",
      "  MARIAN RADY\n",
      "\n",
      "                     Exit\n",
      "  KING HENRY, and a certaise\n",
      " \n",
      "--- EPOCH 18/50 ---\n",
      "train_batch (Avg. Loss 1.184, Accuracy 63.6): 100%|██████████| 348/348 [02:13<00:00,  2.60it/s]\n",
      "test_batch (Avg. Loss 1.241, Accuracy 60.7): 100%|██████████| 38/38 [00:07<00:00,  5.28it/s]\n",
      "ACT I. She is\n",
      "                                Exit\n",
      "  THE FENTER and CLEOPA\n",
      "  DUKE OF ENTAR\n",
      "\n",
      "  PRINCE\n",
      "--- EPOCH 19/50 ---\n",
      "train_batch (Avg. Loss 1.179, Accuracy 63.7): 100%|██████████| 348/348 [02:54<00:00,  1.99it/s]\n",
      "test_batch (Avg. Loss 1.235, Accuracy 60.8): 100%|██████████| 38/38 [00:06<00:00,  5.90it/s]\n",
      "ACT I. A thou\n",
      "disconted to the\n",
      "                    Exit\n",
      "\n",
      "Act I. The parts\n",
      "That good till\n",
      "  Comber, a\n",
      "--- EPOCH 20/50 ---\n",
      "train_batch (Avg. Loss 1.174, Accuracy 63.8): 100%|██████████| 348/348 [02:55<00:00,  1.98it/s]\n",
      "test_batch (Avg. Loss 1.232, Accuracy 60.9): 100%|██████████| 38/38 [00:06<00:00,  5.49it/s]\n",
      "ACT I. And\n",
      "  Beneding in the\n",
      "  Mothers.\n",
      "\n",
      "                    Exeunt\n",
      "\n",
      "          Enter \n",
      "\n",
      "          Exi\n",
      "--- EPOCH 21/50 ---\n",
      "train_batch (Avg. Loss 1.170, Accuracy 63.9): 100%|██████████| 348/348 [02:58<00:00,  1.95it/s]\n",
      "test_batch (Avg. Loss 1.234, Accuracy 60.9): 100%|██████████| 38/38 [00:06<00:00,  6.28it/s]\n",
      "ACT I. And so fast\n",
      "                 Exit\n",
      "\n",
      "          Enter and coffing\n",
      "                  Exit\n",
      "\n",
      "      \n",
      "--- EPOCH 22/50 ---\n",
      "train_batch (Avg. Loss 1.166, Accuracy 64.0): 100%|██████████| 348/348 [02:52<00:00,  2.02it/s]\n",
      "test_batch (Avg. Loss 1.226, Accuracy 61.1): 100%|██████████| 38/38 [00:07<00:00,  5.31it/s]\n",
      "ACT I. Callnanted\n",
      "  TROILUS\n",
      "\n",
      "  THE ENDARO\n",
      "\n",
      "  PORTIA a day\n",
      "  BASSAN, and attend and\n",
      "                 \n",
      "--- EPOCH 23/50 ---\n",
      "train_batch (Avg. Loss 1.163, Accuracy 64.1): 100%|██████████| 348/348 [03:13<00:00,  1.80it/s]\n",
      "test_batch (Avg. Loss 1.226, Accuracy 61.1): 100%|██████████| 38/38 [00:07<00:00,  5.32it/s]\n",
      "ACT I. If I\n",
      "  From our own of a desire\n",
      "  A friend with himsely.\n",
      "  BRUTUS\n",
      "  LADY ANDRONAL\n",
      "\n",
      "  ANTONY\n",
      " \n",
      "--- EPOCH 24/50 ---\n",
      "train_batch (Avg. Loss 1.160, Accuracy 64.2): 100%|██████████| 348/348 [03:17<00:00,  1.76it/s]\n",
      "test_batch (Avg. Loss 1.219, Accuracy 61.2): 100%|██████████| 38/38 [00:07<00:00,  5.42it/s]\n",
      "ACT I. Strike;\n",
      "  A MARIAN  \n",
      "  FIRST SOLDIEN\n",
      "\n",
      "  LORD CHISFER\n",
      "\n",
      "  SERVANT\n",
      "\n",
      "  MENENISTA\n",
      "  PETER, and BER\n",
      "--- EPOCH 25/50 ---\n",
      "train_batch (Avg. Loss 1.157, Accuracy 64.3): 100%|██████████| 348/348 [02:58<00:00,  1.95it/s]\n",
      "test_batch (Avg. Loss 1.216, Accuracy 61.3): 100%|██████████| 38/38 [00:07<00:00,  5.31it/s]\n",
      "ACT I. Much\n",
      "                     Exit\n",
      "  DUKE OF WILLOUS\n",
      "\n",
      "  MENENIS and home.\n",
      "\n",
      "  CAESAR oN the art th\n",
      "--- EPOCH 26/50 ---\n",
      "train_batch (Avg. Loss 1.153, Accuracy 64.4): 100%|██████████| 348/348 [02:55<00:00,  1.99it/s]\n",
      "test_batch (Avg. Loss 1.213, Accuracy 61.4): 100%|██████████| 38/38 [00:06<00:00,  6.01it/s]\n",
      "ACT I.\n",
      "\n",
      "ACHILO. What would? What will be to\n",
      "                       Exit\n",
      "  FALSTARD a fOrtune\n",
      "\n",
      " FRORI\n",
      "--- EPOCH 27/50 ---\n",
      "train_batch (Avg. Loss 1.151, Accuracy 64.5): 100%|██████████| 348/348 [03:03<00:00,  1.90it/s]\n",
      "test_batch (Avg. Loss 1.215, Accuracy 61.4): 100%|██████████| 38/38 [00:07<00:00,  4.80it/s]\n",
      "ACT I. And her\n",
      "                       Exit\n",
      "  ALL SENDON\n",
      "\n",
      "         Enter the to the DUMAIN\n",
      "\n",
      "         \n",
      "--- EPOCH 28/50 ---\n",
      "train_batch (Avg. Loss 1.148, Accuracy 64.5): 100%|██████████| 348/348 [03:01<00:00,  1.92it/s]\n",
      "test_batch (Avg. Loss 1.209, Accuracy 61.5): 100%|██████████| 38/38 [00:07<00:00,  5.32it/s]\n",
      "ACT I. If I\n",
      "    man- where\n",
      "                        Exit\n",
      "                           Exit\n",
      "            \n",
      "--- EPOCH 29/50 ---\n",
      "train_batch (Avg. Loss 1.145, Accuracy 64.6): 100%|██████████| 348/348 [03:05<00:00,  1.88it/s]\n",
      "test_batch (Avg. Loss 1.208, Accuracy 61.6): 100%|██████████| 38/38 [00:06<00:00,  5.75it/s]\n",
      "ACT I. If I\n",
      "  FIRST HiS MONTHEES\n",
      "\n",
      "  CORIO, and the chains\n",
      "                                          \n",
      "--- EPOCH 30/50 ---\n",
      "train_batch (Avg. Loss 1.144, Accuracy 64.7): 100%|██████████| 348/348 [03:10<00:00,  1.83it/s]\n",
      "test_batch (Avg. Loss 1.208, Accuracy 61.6): 100%|██████████| 38/38 [00:06<00:00,  5.44it/s]\n",
      "ACT I. Out,\n",
      "  And thou hast.\n",
      "  HOSTESTS a sERVANT\n",
      "\n",
      "  BOLINCRE\n",
      "\n",
      "  CORIOLA, with a call\n",
      "              \n",
      "--- EPOCH 31/50 ---\n",
      "train_batch (Avg. Loss 1.141, Accuracy 64.7): 100%|██████████| 348/348 [03:02<00:00,  1.91it/s]\n",
      "test_batch (Avg. Loss 1.204, Accuracy 61.7): 100%|██████████| 38/38 [00:06<00:00,  5.52it/s]\n",
      "ACT I. All there!\n",
      "\n",
      "DUKE OF ARIER\n",
      "\n",
      "ANTIPHORA THEEPER\n",
      "\n",
      "  MESSENG\n",
      "  FIRST SIR HENRY\n",
      "  MISTRES, the beat\n",
      "--- EPOCH 32/50 ---\n",
      "train_batch (Avg. Loss 1.139, Accuracy 64.8): 100%|██████████| 348/348 [02:58<00:00,  1.95it/s]\n",
      "test_batch (Avg. Loss 1.201, Accuracy 61.7): 100%|██████████| 38/38 [00:07<00:00,  4.86it/s]\n",
      "ACT I. Meant and stands\n",
      "  First Capuls, and\n",
      "    Revening mortally\n",
      "                                  \n",
      "--- EPOCH 33/50 ---\n",
      "train_batch (Avg. Loss 1.136, Accuracy 64.9): 100%|██████████| 348/348 [02:49<00:00,  2.05it/s]\n",
      "test_batch (Avg. Loss 1.199, Accuracy 61.9): 100%|██████████| 38/38 [00:06<00:00,  5.74it/s]\n",
      "ACT I. My horse\n",
      "                         Exit\n",
      "                                                      \n",
      "--- EPOCH 34/50 ---\n",
      "train_batch (Avg. Loss 1.134, Accuracy 64.9): 100%|██████████| 348/348 [02:47<00:00,  2.08it/s]\n",
      "test_batch (Avg. Loss 1.197, Accuracy 61.8): 100%|██████████| 38/38 [00:05<00:00,  6.41it/s]\n",
      "ACT I.\n",
      "  WILLOUS a FERDER\n",
      "\n",
      "  SECOND STARTES\n",
      "\n",
      "  TARUS, and atterding\n",
      "\n",
      "  SILVIA a Wold\n",
      "  A MARIANTSEs\n",
      "\n",
      "--- EPOCH 35/50 ---\n",
      "train_batch (Avg. Loss 1.133, Accuracy 64.9): 100%|██████████| 348/348 [02:44<00:00,  2.11it/s]\n",
      "test_batch (Avg. Loss 1.198, Accuracy 61.8): 100%|██████████| 38/38 [00:06<00:00,  5.51it/s]\n",
      "ACT I. The maids.\n",
      "\n",
      "  DUKE OF WARWINCH\n",
      "\n",
      "           Enter and themset.\n",
      "\n",
      "Enter on the DUKE OF YORK and\n",
      "\n",
      "--- EPOCH 36/50 ---\n",
      "train_batch (Avg. Loss 1.131, Accuracy 65.0): 100%|██████████| 348/348 [02:45<00:00,  2.11it/s]\n",
      "test_batch (Avg. Loss 1.195, Accuracy 61.9): 100%|██████████| 38/38 [00:07<00:00,  4.77it/s]\n",
      "ACT I. I will\n",
      "                           Exeunt.\n",
      "\n",
      "        Enter and villains.\n",
      "  BOTTOM o d DUKE\n",
      "    \n",
      "--- EPOCH 37/50 ---\n",
      "train_batch (Avg. Loss 1.129, Accuracy 65.0): 100%|██████████| 348/348 [02:51<00:00,  2.03it/s]\n",
      "test_batch (Avg. Loss 1.195, Accuracy 61.9): 100%|██████████| 38/38 [00:07<00:00,  5.37it/s]\n",
      "ACT I. My love.\n",
      "  MARGERS\n",
      "  GREMIO ceRe on\n",
      "                                                         \n",
      "--- EPOCH 38/50 ---\n",
      "train_batch (Avg. Loss 1.127, Accuracy 65.1): 100%|██████████| 348/348 [02:53<00:00,  2.00it/s]\n",
      "test_batch (Avg. Loss 1.191, Accuracy 62.0): 100%|██████████| 38/38 [00:06<00:00,  5.92it/s]\n",
      "ACT I. The are\n",
      "                                                                                     \n",
      "--- EPOCH 39/50 ---\n",
      "train_batch (Avg. Loss 1.125, Accuracy 65.2): 100%|██████████| 348/348 [02:48<00:00,  2.06it/s]\n",
      "test_batch (Avg. Loss 1.189, Accuracy 62.0): 100%|██████████| 38/38 [00:06<00:00,  5.89it/s]\n",
      "ACT I. I\n",
      "    to the till\n",
      "                                                            [Aside]\n",
      "       \n",
      "--- EPOCH 40/50 ---\n",
      "train_batch (Avg. Loss 1.123, Accuracy 65.2): 100%|██████████| 348/348 [02:46<00:00,  2.09it/s]\n",
      "test_batch (Avg. Loss 1.191, Accuracy 62.0): 100%|██████████| 38/38 [00:06<00:00,  5.73it/s]\n",
      "ACT I. Sweet\n",
      "                              Exit\n",
      "  FLORIZALE\n",
      "  OTHERS\n",
      "  SIR ROBERI\n",
      "                  \n",
      "--- EPOCH 41/50 ---\n",
      "train_batch (Avg. Loss 1.122, Accuracy 65.2): 100%|██████████| 348/348 [02:47<00:00,  2.08it/s]\n",
      "test_batch (Avg. Loss 1.190, Accuracy 62.1): 100%|██████████| 38/38 [00:06<00:00,  5.58it/s]\n",
      "ACT I.\n",
      "  CADE. We will before.\n",
      "  BRUTUS and the France\n",
      "                           exit the comes\n",
      "  L\n",
      "--- EPOCH 42/50 ---\n",
      "train_batch (Avg. Loss 1.121, Accuracy 65.3): 100%|██████████| 348/348 [02:42<00:00,  2.15it/s]\n",
      "test_batch (Avg. Loss 1.187, Accuracy 62.1): 100%|██████████| 38/38 [00:06<00:00,  6.01it/s]\n",
      "ACT I. As\n",
      "                                           the tears\n",
      "\n",
      "  TITUS from that\n",
      "                  \n",
      "--- EPOCH 43/50 ---\n",
      "train_batch (Avg. Loss 1.119, Accuracy 65.3): 100%|██████████| 348/348 [02:40<00:00,  2.17it/s]\n",
      "test_batch (Avg. Loss 1.184, Accuracy 62.2): 100%|██████████| 38/38 [00:05<00:00,  6.59it/s]\n",
      "ACT I. Do now\n",
      "  SIR HUME of\n",
      "\n",
      "  FIRST GENTLES\n",
      "  LUCIAN\n",
      " PROLOCE or\n",
      "                                  \n",
      "--- EPOCH 44/50 ---\n",
      "train_batch (Avg. Loss 1.118, Accuracy 65.3): 100%|██████████| 348/348 [02:33<00:00,  2.26it/s]\n",
      "test_batch (Avg. Loss 1.184, Accuracy 62.3): 100%|██████████| 38/38 [00:06<00:00,  5.95it/s]\n",
      "ACT I. My love to\n",
      "                                                                                  \n",
      "--- EPOCH 45/50 ---\n",
      "train_batch (Avg. Loss 1.117, Accuracy 65.4): 100%|██████████| 348/348 [02:44<00:00,  2.12it/s]\n",
      "test_batch (Avg. Loss 1.182, Accuracy 62.3): 100%|██████████| 38/38 [00:06<00:00,  5.50it/s]\n",
      "ACT I.\n",
      "    When for here?\n",
      "    O loves!\n",
      "  IAGO. I know me.\n",
      "  VIOLA. I shall with\n",
      "                    \n",
      "--- EPOCH 46/50 ---\n",
      "train_batch (Avg. Loss 1.115, Accuracy 65.4): 100%|██████████| 348/348 [02:44<00:00,  2.11it/s]\n",
      "test_batch (Avg. Loss 1.183, Accuracy 62.2): 100%|██████████| 38/38 [00:06<00:00,  6.01it/s]\n",
      "ACT I. The PRINCE\n",
      "\n",
      " SICINIAGE, and the\n",
      "dROMAS, COSTARD, and the Prinkess.\n",
      "\n",
      "         SCROOP\n",
      "         \n",
      "--- EPOCH 47/50 ---\n",
      "train_batch (Avg. Loss 1.114, Accuracy 65.5): 100%|██████████| 348/348 [02:46<00:00,  2.09it/s]\n",
      "test_batch (Avg. Loss 1.183, Accuracy 62.3): 100%|██████████| 38/38 [00:06<00:00,  6.00it/s]\n",
      "Epoch    46: reducing learning rate of group 0 to 5.0000e-04.\n",
      "ACT I. Here's\n",
      "                                                                                      \n",
      "--- EPOCH 48/50 ---\n",
      "train_batch (Avg. Loss 1.097, Accuracy 65.9): 100%|██████████| 348/348 [02:45<00:00,  2.11it/s]\n",
      "test_batch (Avg. Loss 1.166, Accuracy 62.8): 100%|██████████| 38/38 [00:06<00:00,  6.12it/s]\n",
      "ACT I. The here.\n",
      "\n",
      "          SCENE\n",
      "\n",
      "  MESSENOT OCTOX\n",
      "                                                \n",
      "--- EPOCH 49/50 ---\n",
      "train_batch (Avg. Loss 1.091, Accuracy 66.1): 100%|██████████| 348/348 [02:43<00:00,  2.13it/s]\n",
      "test_batch (Avg. Loss 1.163, Accuracy 62.8): 100%|██████████| 38/38 [00:06<00:00,  5.93it/s]\n",
      "ACT I.\n",
      "                 Exit\n",
      "\n",
      "Scene sing.\n",
      "\n",
      "King Henry, SALISNER,\n",
      "and a Sir John with a seal\n",
      "\n",
      "  FORD \n",
      "--- EPOCH 50/50 ---\n",
      "train_batch (Avg. Loss 1.088, Accuracy 66.1): 100%|██████████| 348/348 [02:44<00:00,  2.12it/s]\n",
      "test_batch (Avg. Loss 1.163, Accuracy 62.8): 100%|██████████| 38/38 [00:06<00:00,  5.84it/s]\n",
      "ACT I.  \n",
      "  MENENIAS\n",
      "                    \"ELlOW.\n",
      "               Exit\n",
      "\n",
      "All the DUKE OFMENES\n",
      "\n",
      "ENGELO aN\n"
     ]
    },
    {
     "data": {
      "image/png": "[encoded data removed]",
      "text/plain": [
       "<Figure size 1152x720 with 4 Axes>"
      ]
     },
     "metadata": {
      "needs_background": "light"
     },
     "output_type": "display_data"
    }
   ],
   "source": [
    "from cs236781.plot import plot_fit\n",
    "\n",
    "def post_epoch_fn(epoch, train_res, test_res, verbose):\n",
    "    # Update learning rate\n",
    "    scheduler.step(test_res.accuracy)\n",
    "    # Sample from model to show progress\n",
    "    if verbose:\n",
    "        start_seq = \"ACT I.\"\n",
    "        generated_sequence = charnn.generate_from_model(\n",
    "            model, start_seq, 100, (char_to_idx,idx_to_char), T=0.5\n",
    "        )\n",
    "        print(generated_sequence)\n",
    "\n",
    "# Train, unless final checkpoint is found\n",
    "checkpoint_file_final = f'{checkpoint_file}_final.pt'\n",
    "if os.path.isfile(checkpoint_file_final):\n",
    "    print(f'*** Loading final checkpoint file {checkpoint_file_final} instead of training')\n",
    "    saved_state = torch.load(checkpoint_file_final, map_location=device)\n",
    "    model.load_state_dict(saved_state['model_state'])\n",
    "else:\n",
    "    try:\n",
    "        # Print pre-training sampling\n",
    "        print(charnn.generate_from_model(model, \"ACT I.\", 100, (char_to_idx,idx_to_char), T=0.5))\n",
    "\n",
    "        fit_res = trainer.fit(dl_train, dl_test, num_epochs, max_batches=None,\n",
    "                              post_epoch_fn=post_epoch_fn, early_stopping=early_stopping,\n",
    "                              checkpoints=checkpoint_file, print_every=1)\n",
    "        \n",
    "        fig, axes = plot_fit(fit_res)\n",
    "    except KeyboardInterrupt as e:\n",
    "        print('\\n *** Training interrupted by user')"
   ]
  },
  {
   "cell_type": "markdown",
   "metadata": {},
   "source": [
    "### Generating a work of art\n",
    "<a id=part1_8></a>"
   ]
  },
  {
   "cell_type": "markdown",
   "metadata": {},
   "source": [
    "Armed with our fully trained model, let's generate the next Hamlet! You should experiment with modifying the sampling temperature and see what happens.\n",
    "\n",
    "The text you generate should “look” like a Shakespeare play:\n",
    "old-style English words and sentence structure, directions for the actors\n",
    "(like “Exit/Enter”), sections (Act I/Scene III) etc.\n",
    "There will be no coherent plot of course, but it should at least seem like\n",
    "a Shakespearean play when not looking too closely.\n",
    "If this is not what you see, go back, debug and/or and re-train.\n",
    "\n",
    "**TODO**: Specify the generation parameters in the `part1_generation_params()` function within the `hw3/answers.py` module."
   ]
  },
  {
   "cell_type": "code",
   "execution_count": null,
   "metadata": {
    "pycharm": {
     "is_executing": false
    }
   },
   "outputs": [],
   "source": [
    "from hw3.answers import part1_generation_params\n",
    "\n",
    "start_seq, temperature = part1_generation_params()\n",
    "\n",
    "generated_sequence = charnn.generate_from_model(\n",
    "    model, start_seq, 10000, (char_to_idx,idx_to_char), T=temperature\n",
    ")\n",
    "\n",
    "print(generated_sequence)"
   ]
  },
  {
   "cell_type": "markdown",
   "metadata": {},
   "source": [
    "## Questions\n",
    "<a id=part1_9></a>"
   ]
  },
  {
   "cell_type": "markdown",
   "metadata": {},
   "source": [
    "**TODO** Answer the following questions. Write your answers in the appropriate variables in the module `hw3/answers.py`."
   ]
  },
  {
   "cell_type": "code",
   "execution_count": null,
   "metadata": {
    "pycharm": {
     "is_executing": false
    }
   },
   "outputs": [],
   "source": [
    "from cs236781.answers import display_answer\n",
    "import hw3.answers"
   ]
  },
  {
   "cell_type": "markdown",
   "metadata": {},
   "source": [
    "### Question 1\n",
    "Why do we split the corpus into sequences instead of training on the whole text?"
   ]
  },
  {
   "cell_type": "code",
   "execution_count": null,
   "metadata": {
    "pycharm": {
     "is_executing": false
    }
   },
   "outputs": [],
   "source": [
    "display_answer(hw3.answers.part1_q1)"
   ]
  },
  {
   "cell_type": "markdown",
   "metadata": {},
   "source": [
    "### Question 2\n",
    "How is it possible that the generated text clearly shows memory longer than the sequence length?"
   ]
  },
  {
   "cell_type": "code",
   "execution_count": null,
   "metadata": {
    "pycharm": {
     "is_executing": false
    }
   },
   "outputs": [],
   "source": [
    "display_answer(hw3.answers.part1_q2)"
   ]
  },
  {
   "cell_type": "markdown",
   "metadata": {},
   "source": [
    "### Question 3\n",
    "Why are we not shuffling the order of batches when training?"
   ]
  },
  {
   "cell_type": "code",
   "execution_count": null,
   "metadata": {
    "pycharm": {
     "is_executing": false
    }
   },
   "outputs": [],
   "source": [
    "display_answer(hw3.answers.part1_q3)"
   ]
  },
  {
   "cell_type": "markdown",
   "metadata": {},
   "source": [
    "### Question 4\n",
    "1. Why do we lower the temperature for sampling (compared to the default of $1.0$ when training)?\n",
    "2. What happens when the temperature is very high and why?\n",
    "3. What happens when the temperature is very low and why?"
   ]
  },
  {
   "cell_type": "code",
   "execution_count": null,
   "metadata": {
    "pycharm": {
     "is_executing": false
    }
   },
   "outputs": [],
   "source": [
    "display_answer(hw3.answers.part1_q4)"
   ]
  },
  {
   "cell_type": "code",
   "execution_count": null,
   "metadata": {},
   "outputs": [],
   "source": [
    "%%pixie_debugger\n",
    "def isStr2InStr1 (str1, str2):\n",
    "    if len(str2)>len(str1):\n",
    "        return False\n",
    "    indexes = []\n",
    "    for i in range (len(str1)):\n",
    "        n=0\n",
    "        while n < len(indexes):\n",
    "            if indexes[n]== -1:\n",
    "                del indexes[n]\n",
    "            else:\n",
    "                n = n+1\n",
    "        for j in range (len(indexes)):\n",
    "            if indexes[j]==len(str2):\n",
    "                return True\n",
    "            if (str1[i]==str2[indexes[j]]):\n",
    "                indexes[j]+= 1\n",
    "            else:\n",
    "                indexes[j] = -1\n",
    "        if (str1[i]==str2[0]):\n",
    "            indexes.append(1)\n",
    "    for m in range(len(indexes)):\n",
    "        if indexes[m]==len(str2):\n",
    "            return True\n",
    "    return False"
   ]
  },
  {
   "cell_type": "code",
   "execution_count": null,
   "metadata": {},
   "outputs": [],
   "source": [
    "%%pixie_debugger\n",
    "isStr2InStr1(\"aaa\", \"aaa\")"
   ]
  },
  {
   "cell_type": "code",
   "execution_count": null,
   "metadata": {},
   "outputs": [],
   "source": []
  }
 ],
 "metadata": {
  "kernelspec": {
   "display_name": "Python 3",
   "language": "python",
   "name": "python3"
  },
  "language_info": {
   "codemirror_mode": {
    "name": "ipython",
    "version": 3
   },
   "file_extension": ".py",
   "mimetype": "text/x-python",
   "name": "python",
   "nbconvert_exporter": "python",
   "pygments_lexer": "ipython3",
   "version": "3.7.4"
  },
  "pycharm": {
   "stem_cell": {
    "cell_type": "raw",
    "metadata": {
     "collapsed": false
    },
    "source": []
   }
  }
 },
 "nbformat": 4,
 "nbformat_minor": 4
}
